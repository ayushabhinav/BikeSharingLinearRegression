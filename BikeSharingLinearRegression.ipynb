{
  "nbformat": 4,
  "nbformat_minor": 0,
  "metadata": {
    "colab": {
      "name": "BikeSharingLinearRegression.ipynb",
      "provenance": [],
      "collapsed_sections": [
        "GCp29eSV7FFz",
        "kadAwP_v4brO",
        "hoPjd4Vl5odg",
        "Wkqgu3feuRZw",
        "sNPBs4y2lW56",
        "nNsg-W7F2397",
        "lFWlBavVPcka",
        "-cS2vXf4ZoLZ",
        "1M-nG3A8Z_Xv"
      ],
      "authorship_tag": "ABX9TyMZ11R1M53gQz7bZ73v2z8a",
      "include_colab_link": true
    },
    "kernelspec": {
      "name": "python3",
      "display_name": "Python 3"
    },
    "language_info": {
      "name": "python"
    }
  },
  "cells": [
    {
      "cell_type": "markdown",
      "metadata": {
        "id": "view-in-github",
        "colab_type": "text"
      },
      "source": [
        "<a href=\"https://colab.research.google.com/github/ayushabhinav/BikeSharingLinearRegression/blob/main/BikeSharingLinearRegression.ipynb\" target=\"_parent\"><img src=\"https://colab.research.google.com/assets/colab-badge.svg\" alt=\"Open In Colab\"/></a>"
      ]
    },
    {
      "cell_type": "code",
      "metadata": {
        "id": "KPo8CRlDkFGt"
      },
      "source": [
        "from google.colab import drive\n",
        "drive.mount('/drive')"
      ],
      "execution_count": null,
      "outputs": []
    },
    {
      "cell_type": "code",
      "metadata": {
        "id": "fTa4JaZA3MOC"
      },
      "source": [
        "import os\n",
        "import pandas as pd \n",
        "import numpy as np \n",
        "import matplotlib.pyplot as plt\n",
        "import seaborn as sns\n",
        "import warnings\n",
        "\n",
        "warnings.filterwarnings('ignore')"
      ],
      "execution_count": null,
      "outputs": []
    },
    {
      "cell_type": "code",
      "metadata": {
        "id": "xU9tKRGr3RnS"
      },
      "source": [
        "data_file = '/drive/MyDrive/day.csv'"
      ],
      "execution_count": null,
      "outputs": []
    },
    {
      "cell_type": "markdown",
      "metadata": {
        "id": "GCp29eSV7FFz"
      },
      "source": [
        "##### Load Data #####"
      ]
    },
    {
      "cell_type": "code",
      "metadata": {
        "colab": {
          "base_uri": "https://localhost:8080/"
        },
        "id": "MKPHNfBG3q2z",
        "outputId": "579e154f-4d2a-4b0b-d58d-afdf537fa75b"
      },
      "source": [
        "#loading data\n",
        "data = pd.read_csv(data_file)\n",
        "data.head()"
      ],
      "execution_count": null,
      "outputs": [
        {
          "output_type": "execute_result",
          "data": {
            "text/html": [
              "<div>\n",
              "<style scoped>\n",
              "    .dataframe tbody tr th:only-of-type {\n",
              "        vertical-align: middle;\n",
              "    }\n",
              "\n",
              "    .dataframe tbody tr th {\n",
              "        vertical-align: top;\n",
              "    }\n",
              "\n",
              "    .dataframe thead th {\n",
              "        text-align: right;\n",
              "    }\n",
              "</style>\n",
              "<table border=\"1\" class=\"dataframe\">\n",
              "  <thead>\n",
              "    <tr style=\"text-align: right;\">\n",
              "      <th></th>\n",
              "      <th>instant</th>\n",
              "      <th>dteday</th>\n",
              "      <th>season</th>\n",
              "      <th>yr</th>\n",
              "      <th>mnth</th>\n",
              "      <th>holiday</th>\n",
              "      <th>weekday</th>\n",
              "      <th>workingday</th>\n",
              "      <th>weathersit</th>\n",
              "      <th>temp</th>\n",
              "      <th>atemp</th>\n",
              "      <th>hum</th>\n",
              "      <th>windspeed</th>\n",
              "      <th>casual</th>\n",
              "      <th>registered</th>\n",
              "      <th>cnt</th>\n",
              "    </tr>\n",
              "  </thead>\n",
              "  <tbody>\n",
              "    <tr>\n",
              "      <th>0</th>\n",
              "      <td>1</td>\n",
              "      <td>01-01-2018</td>\n",
              "      <td>1</td>\n",
              "      <td>0</td>\n",
              "      <td>1</td>\n",
              "      <td>0</td>\n",
              "      <td>1</td>\n",
              "      <td>1</td>\n",
              "      <td>2</td>\n",
              "      <td>14.110847</td>\n",
              "      <td>18.18125</td>\n",
              "      <td>80.5833</td>\n",
              "      <td>10.749882</td>\n",
              "      <td>331</td>\n",
              "      <td>654</td>\n",
              "      <td>985</td>\n",
              "    </tr>\n",
              "    <tr>\n",
              "      <th>1</th>\n",
              "      <td>2</td>\n",
              "      <td>02-01-2018</td>\n",
              "      <td>1</td>\n",
              "      <td>0</td>\n",
              "      <td>1</td>\n",
              "      <td>0</td>\n",
              "      <td>2</td>\n",
              "      <td>1</td>\n",
              "      <td>2</td>\n",
              "      <td>14.902598</td>\n",
              "      <td>17.68695</td>\n",
              "      <td>69.6087</td>\n",
              "      <td>16.652113</td>\n",
              "      <td>131</td>\n",
              "      <td>670</td>\n",
              "      <td>801</td>\n",
              "    </tr>\n",
              "    <tr>\n",
              "      <th>2</th>\n",
              "      <td>3</td>\n",
              "      <td>03-01-2018</td>\n",
              "      <td>1</td>\n",
              "      <td>0</td>\n",
              "      <td>1</td>\n",
              "      <td>0</td>\n",
              "      <td>3</td>\n",
              "      <td>1</td>\n",
              "      <td>1</td>\n",
              "      <td>8.050924</td>\n",
              "      <td>9.47025</td>\n",
              "      <td>43.7273</td>\n",
              "      <td>16.636703</td>\n",
              "      <td>120</td>\n",
              "      <td>1229</td>\n",
              "      <td>1349</td>\n",
              "    </tr>\n",
              "    <tr>\n",
              "      <th>3</th>\n",
              "      <td>4</td>\n",
              "      <td>04-01-2018</td>\n",
              "      <td>1</td>\n",
              "      <td>0</td>\n",
              "      <td>1</td>\n",
              "      <td>0</td>\n",
              "      <td>4</td>\n",
              "      <td>1</td>\n",
              "      <td>1</td>\n",
              "      <td>8.200000</td>\n",
              "      <td>10.60610</td>\n",
              "      <td>59.0435</td>\n",
              "      <td>10.739832</td>\n",
              "      <td>108</td>\n",
              "      <td>1454</td>\n",
              "      <td>1562</td>\n",
              "    </tr>\n",
              "    <tr>\n",
              "      <th>4</th>\n",
              "      <td>5</td>\n",
              "      <td>05-01-2018</td>\n",
              "      <td>1</td>\n",
              "      <td>0</td>\n",
              "      <td>1</td>\n",
              "      <td>0</td>\n",
              "      <td>5</td>\n",
              "      <td>1</td>\n",
              "      <td>1</td>\n",
              "      <td>9.305237</td>\n",
              "      <td>11.46350</td>\n",
              "      <td>43.6957</td>\n",
              "      <td>12.522300</td>\n",
              "      <td>82</td>\n",
              "      <td>1518</td>\n",
              "      <td>1600</td>\n",
              "    </tr>\n",
              "  </tbody>\n",
              "</table>\n",
              "</div>"
            ],
            "text/plain": [
              "   instant      dteday  season  yr  ...  windspeed  casual  registered   cnt\n",
              "0        1  01-01-2018       1   0  ...  10.749882     331         654   985\n",
              "1        2  02-01-2018       1   0  ...  16.652113     131         670   801\n",
              "2        3  03-01-2018       1   0  ...  16.636703     120        1229  1349\n",
              "3        4  04-01-2018       1   0  ...  10.739832     108        1454  1562\n",
              "4        5  05-01-2018       1   0  ...  12.522300      82        1518  1600\n",
              "\n",
              "[5 rows x 16 columns]"
            ]
          },
          "metadata": {
            "tags": []
          },
          "execution_count": 4
        }
      ]
    },
    {
      "cell_type": "markdown",
      "metadata": {
        "id": "kadAwP_v4brO"
      },
      "source": [
        "##### Perform Basic Sanity in Data #####"
      ]
    },
    {
      "cell_type": "code",
      "metadata": {
        "colab": {
          "base_uri": "https://localhost:8080/"
        },
        "id": "aM5AHCLC4Qs-",
        "outputId": "6e10c2f9-b798-4528-af05-17b1ee852eee"
      },
      "source": [
        "#checking for null values\n",
        "data.isnull().sum()"
      ],
      "execution_count": null,
      "outputs": [
        {
          "output_type": "execute_result",
          "data": {
            "text/plain": [
              "instant       0\n",
              "dteday        0\n",
              "season        0\n",
              "yr            0\n",
              "mnth          0\n",
              "holiday       0\n",
              "weekday       0\n",
              "workingday    0\n",
              "weathersit    0\n",
              "temp          0\n",
              "atemp         0\n",
              "hum           0\n",
              "windspeed     0\n",
              "casual        0\n",
              "registered    0\n",
              "cnt           0\n",
              "dtype: int64"
            ]
          },
          "metadata": {
            "tags": []
          },
          "execution_count": 5
        }
      ]
    },
    {
      "cell_type": "code",
      "metadata": {
        "colab": {
          "base_uri": "https://localhost:8080/"
        },
        "id": "XWfViAeZ49-V",
        "outputId": "85c44869-a5b9-46c0-90fb-f1842c657657"
      },
      "source": [
        "#Checking datatype of columns\n",
        "data.info(verbose=True)"
      ],
      "execution_count": null,
      "outputs": [
        {
          "output_type": "stream",
          "text": [
            "<class 'pandas.core.frame.DataFrame'>\n",
            "RangeIndex: 730 entries, 0 to 729\n",
            "Data columns (total 16 columns):\n",
            " #   Column      Non-Null Count  Dtype  \n",
            "---  ------      --------------  -----  \n",
            " 0   instant     730 non-null    int64  \n",
            " 1   dteday      730 non-null    object \n",
            " 2   season      730 non-null    int64  \n",
            " 3   yr          730 non-null    int64  \n",
            " 4   mnth        730 non-null    int64  \n",
            " 5   holiday     730 non-null    int64  \n",
            " 6   weekday     730 non-null    int64  \n",
            " 7   workingday  730 non-null    int64  \n",
            " 8   weathersit  730 non-null    int64  \n",
            " 9   temp        730 non-null    float64\n",
            " 10  atemp       730 non-null    float64\n",
            " 11  hum         730 non-null    float64\n",
            " 12  windspeed   730 non-null    float64\n",
            " 13  casual      730 non-null    int64  \n",
            " 14  registered  730 non-null    int64  \n",
            " 15  cnt         730 non-null    int64  \n",
            "dtypes: float64(4), int64(11), object(1)\n",
            "memory usage: 91.4+ KB\n"
          ],
          "name": "stdout"
        }
      ]
    },
    {
      "cell_type": "code",
      "metadata": {
        "colab": {
          "base_uri": "https://localhost:8080/"
        },
        "id": "7FFvnxmFk85h",
        "outputId": "4e14b637-9504-4ea5-eff9-6e32dfb64e11"
      },
      "source": [
        "#describe data\n",
        "data.describe()"
      ],
      "execution_count": null,
      "outputs": [
        {
          "output_type": "execute_result",
          "data": {
            "text/html": [
              "<div>\n",
              "<style scoped>\n",
              "    .dataframe tbody tr th:only-of-type {\n",
              "        vertical-align: middle;\n",
              "    }\n",
              "\n",
              "    .dataframe tbody tr th {\n",
              "        vertical-align: top;\n",
              "    }\n",
              "\n",
              "    .dataframe thead th {\n",
              "        text-align: right;\n",
              "    }\n",
              "</style>\n",
              "<table border=\"1\" class=\"dataframe\">\n",
              "  <thead>\n",
              "    <tr style=\"text-align: right;\">\n",
              "      <th></th>\n",
              "      <th>instant</th>\n",
              "      <th>season</th>\n",
              "      <th>yr</th>\n",
              "      <th>mnth</th>\n",
              "      <th>holiday</th>\n",
              "      <th>weekday</th>\n",
              "      <th>workingday</th>\n",
              "      <th>weathersit</th>\n",
              "      <th>temp</th>\n",
              "      <th>atemp</th>\n",
              "      <th>hum</th>\n",
              "      <th>windspeed</th>\n",
              "      <th>casual</th>\n",
              "      <th>registered</th>\n",
              "      <th>cnt</th>\n",
              "    </tr>\n",
              "  </thead>\n",
              "  <tbody>\n",
              "    <tr>\n",
              "      <th>count</th>\n",
              "      <td>730.000000</td>\n",
              "      <td>730.000000</td>\n",
              "      <td>730.000000</td>\n",
              "      <td>730.000000</td>\n",
              "      <td>730.000000</td>\n",
              "      <td>730.000000</td>\n",
              "      <td>730.000000</td>\n",
              "      <td>730.000000</td>\n",
              "      <td>730.000000</td>\n",
              "      <td>730.000000</td>\n",
              "      <td>730.000000</td>\n",
              "      <td>730.000000</td>\n",
              "      <td>730.000000</td>\n",
              "      <td>730.000000</td>\n",
              "      <td>730.000000</td>\n",
              "    </tr>\n",
              "    <tr>\n",
              "      <th>mean</th>\n",
              "      <td>365.500000</td>\n",
              "      <td>2.498630</td>\n",
              "      <td>0.500000</td>\n",
              "      <td>6.526027</td>\n",
              "      <td>0.028767</td>\n",
              "      <td>2.995890</td>\n",
              "      <td>0.690411</td>\n",
              "      <td>1.394521</td>\n",
              "      <td>20.319259</td>\n",
              "      <td>23.726322</td>\n",
              "      <td>62.765175</td>\n",
              "      <td>12.763620</td>\n",
              "      <td>849.249315</td>\n",
              "      <td>3658.757534</td>\n",
              "      <td>4508.006849</td>\n",
              "    </tr>\n",
              "    <tr>\n",
              "      <th>std</th>\n",
              "      <td>210.877136</td>\n",
              "      <td>1.110184</td>\n",
              "      <td>0.500343</td>\n",
              "      <td>3.450215</td>\n",
              "      <td>0.167266</td>\n",
              "      <td>2.000339</td>\n",
              "      <td>0.462641</td>\n",
              "      <td>0.544807</td>\n",
              "      <td>7.506729</td>\n",
              "      <td>8.150308</td>\n",
              "      <td>14.237589</td>\n",
              "      <td>5.195841</td>\n",
              "      <td>686.479875</td>\n",
              "      <td>1559.758728</td>\n",
              "      <td>1936.011647</td>\n",
              "    </tr>\n",
              "    <tr>\n",
              "      <th>min</th>\n",
              "      <td>1.000000</td>\n",
              "      <td>1.000000</td>\n",
              "      <td>0.000000</td>\n",
              "      <td>1.000000</td>\n",
              "      <td>0.000000</td>\n",
              "      <td>0.000000</td>\n",
              "      <td>0.000000</td>\n",
              "      <td>1.000000</td>\n",
              "      <td>2.424346</td>\n",
              "      <td>3.953480</td>\n",
              "      <td>0.000000</td>\n",
              "      <td>1.500244</td>\n",
              "      <td>2.000000</td>\n",
              "      <td>20.000000</td>\n",
              "      <td>22.000000</td>\n",
              "    </tr>\n",
              "    <tr>\n",
              "      <th>25%</th>\n",
              "      <td>183.250000</td>\n",
              "      <td>2.000000</td>\n",
              "      <td>0.000000</td>\n",
              "      <td>4.000000</td>\n",
              "      <td>0.000000</td>\n",
              "      <td>1.000000</td>\n",
              "      <td>0.000000</td>\n",
              "      <td>1.000000</td>\n",
              "      <td>13.811885</td>\n",
              "      <td>16.889713</td>\n",
              "      <td>52.000000</td>\n",
              "      <td>9.041650</td>\n",
              "      <td>316.250000</td>\n",
              "      <td>2502.250000</td>\n",
              "      <td>3169.750000</td>\n",
              "    </tr>\n",
              "    <tr>\n",
              "      <th>50%</th>\n",
              "      <td>365.500000</td>\n",
              "      <td>3.000000</td>\n",
              "      <td>0.500000</td>\n",
              "      <td>7.000000</td>\n",
              "      <td>0.000000</td>\n",
              "      <td>3.000000</td>\n",
              "      <td>1.000000</td>\n",
              "      <td>1.000000</td>\n",
              "      <td>20.465826</td>\n",
              "      <td>24.368225</td>\n",
              "      <td>62.625000</td>\n",
              "      <td>12.125325</td>\n",
              "      <td>717.000000</td>\n",
              "      <td>3664.500000</td>\n",
              "      <td>4548.500000</td>\n",
              "    </tr>\n",
              "    <tr>\n",
              "      <th>75%</th>\n",
              "      <td>547.750000</td>\n",
              "      <td>3.000000</td>\n",
              "      <td>1.000000</td>\n",
              "      <td>10.000000</td>\n",
              "      <td>0.000000</td>\n",
              "      <td>5.000000</td>\n",
              "      <td>1.000000</td>\n",
              "      <td>2.000000</td>\n",
              "      <td>26.880615</td>\n",
              "      <td>30.445775</td>\n",
              "      <td>72.989575</td>\n",
              "      <td>15.625589</td>\n",
              "      <td>1096.500000</td>\n",
              "      <td>4783.250000</td>\n",
              "      <td>5966.000000</td>\n",
              "    </tr>\n",
              "    <tr>\n",
              "      <th>max</th>\n",
              "      <td>730.000000</td>\n",
              "      <td>4.000000</td>\n",
              "      <td>1.000000</td>\n",
              "      <td>12.000000</td>\n",
              "      <td>1.000000</td>\n",
              "      <td>6.000000</td>\n",
              "      <td>1.000000</td>\n",
              "      <td>3.000000</td>\n",
              "      <td>35.328347</td>\n",
              "      <td>42.044800</td>\n",
              "      <td>97.250000</td>\n",
              "      <td>34.000021</td>\n",
              "      <td>3410.000000</td>\n",
              "      <td>6946.000000</td>\n",
              "      <td>8714.000000</td>\n",
              "    </tr>\n",
              "  </tbody>\n",
              "</table>\n",
              "</div>"
            ],
            "text/plain": [
              "          instant      season  ...   registered          cnt\n",
              "count  730.000000  730.000000  ...   730.000000   730.000000\n",
              "mean   365.500000    2.498630  ...  3658.757534  4508.006849\n",
              "std    210.877136    1.110184  ...  1559.758728  1936.011647\n",
              "min      1.000000    1.000000  ...    20.000000    22.000000\n",
              "25%    183.250000    2.000000  ...  2502.250000  3169.750000\n",
              "50%    365.500000    3.000000  ...  3664.500000  4548.500000\n",
              "75%    547.750000    3.000000  ...  4783.250000  5966.000000\n",
              "max    730.000000    4.000000  ...  6946.000000  8714.000000\n",
              "\n",
              "[8 rows x 15 columns]"
            ]
          },
          "metadata": {
            "tags": []
          },
          "execution_count": 7
        }
      ]
    },
    {
      "cell_type": "code",
      "metadata": {
        "id": "pgKwlBjNkRhJ"
      },
      "source": [
        "#segregating the categorical and numerical columns\n",
        "cat_cols = ['season', 'yr', 'mnth', 'holiday', 'weekday', 'workingday', 'weathersit']\n",
        "num_cols = ['temp', 'atemp', 'hum', 'windspeed','casual', 'registered', 'cnt']"
      ],
      "execution_count": null,
      "outputs": []
    },
    {
      "cell_type": "code",
      "metadata": {
        "colab": {
          "base_uri": "https://localhost:8080/"
        },
        "id": "JkRWVA6gjHxI",
        "outputId": "00c9d64f-0bdd-4fa5-8996-fe616affc9e9"
      },
      "source": [
        "#detecting outlier on numerical columns\n",
        "import math\n",
        "fig = plt.figure(figsize=[15,8])\n",
        "for i, col in enumerate(num_cols):\n",
        "  plt.subplot(math.ceil(len(num_cols) / 4) , 4, i+1)\n",
        "  sns.boxplot(data=data, x=col)\n",
        "plt.show()\n",
        "\n",
        "# windspeed and humidity has outliers."
      ],
      "execution_count": null,
      "outputs": [
        {
          "output_type": "display_data",
          "data": {
            "image/png": "[encoded data removed]",
            "text/plain": [
              "<Figure size 1080x576 with 7 Axes>"
            ]
          },
          "metadata": {
            "tags": [],
            "needs_background": "light"
          }
        }
      ]
    },
    {
      "cell_type": "code",
      "metadata": {
        "colab": {
          "base_uri": "https://localhost:8080/"
        },
        "id": "juDjR6Rikhv1",
        "outputId": "ef927c63-2029-4d62-9ccd-696ead78ff71"
      },
      "source": [
        "#cheking outliers on humidity.\n",
        "data[data.hum < 20]\n",
        "\n",
        "#one row has humidity as 0. This looks error in recording humidity."
      ],
      "execution_count": null,
      "outputs": [
        {
          "output_type": "execute_result",
          "data": {
            "text/html": [
              "<div>\n",
              "<style scoped>\n",
              "    .dataframe tbody tr th:only-of-type {\n",
              "        vertical-align: middle;\n",
              "    }\n",
              "\n",
              "    .dataframe tbody tr th {\n",
              "        vertical-align: top;\n",
              "    }\n",
              "\n",
              "    .dataframe thead th {\n",
              "        text-align: right;\n",
              "    }\n",
              "</style>\n",
              "<table border=\"1\" class=\"dataframe\">\n",
              "  <thead>\n",
              "    <tr style=\"text-align: right;\">\n",
              "      <th></th>\n",
              "      <th>instant</th>\n",
              "      <th>dteday</th>\n",
              "      <th>season</th>\n",
              "      <th>yr</th>\n",
              "      <th>mnth</th>\n",
              "      <th>holiday</th>\n",
              "      <th>weekday</th>\n",
              "      <th>workingday</th>\n",
              "      <th>weathersit</th>\n",
              "      <th>temp</th>\n",
              "      <th>atemp</th>\n",
              "      <th>hum</th>\n",
              "      <th>windspeed</th>\n",
              "      <th>casual</th>\n",
              "      <th>registered</th>\n",
              "      <th>cnt</th>\n",
              "    </tr>\n",
              "  </thead>\n",
              "  <tbody>\n",
              "    <tr>\n",
              "      <th>49</th>\n",
              "      <td>50</td>\n",
              "      <td>19-02-2018</td>\n",
              "      <td>1</td>\n",
              "      <td>0</td>\n",
              "      <td>2</td>\n",
              "      <td>0</td>\n",
              "      <td>1</td>\n",
              "      <td>1</td>\n",
              "      <td>1</td>\n",
              "      <td>16.365847</td>\n",
              "      <td>19.5702</td>\n",
              "      <td>18.7917</td>\n",
              "      <td>34.000021</td>\n",
              "      <td>532</td>\n",
              "      <td>1103</td>\n",
              "      <td>1635</td>\n",
              "    </tr>\n",
              "    <tr>\n",
              "      <th>68</th>\n",
              "      <td>69</td>\n",
              "      <td>10-03-2018</td>\n",
              "      <td>1</td>\n",
              "      <td>0</td>\n",
              "      <td>3</td>\n",
              "      <td>0</td>\n",
              "      <td>6</td>\n",
              "      <td>0</td>\n",
              "      <td>3</td>\n",
              "      <td>15.952731</td>\n",
              "      <td>19.2834</td>\n",
              "      <td>0.0000</td>\n",
              "      <td>17.545759</td>\n",
              "      <td>46</td>\n",
              "      <td>577</td>\n",
              "      <td>623</td>\n",
              "    </tr>\n",
              "  </tbody>\n",
              "</table>\n",
              "</div>"
            ],
            "text/plain": [
              "    instant      dteday  season  yr  ...  windspeed  casual  registered   cnt\n",
              "49       50  19-02-2018       1   0  ...  34.000021     532        1103  1635\n",
              "68       69  10-03-2018       1   0  ...  17.545759      46         577   623\n",
              "\n",
              "[2 rows x 16 columns]"
            ]
          },
          "metadata": {
            "tags": []
          },
          "execution_count": 10
        }
      ]
    },
    {
      "cell_type": "code",
      "metadata": {
        "id": "O1xqhfzWmhOw"
      },
      "source": [
        "# drop errored row\n",
        "data.drop(index=data[data.hum == 0.00].index, inplace=True)"
      ],
      "execution_count": null,
      "outputs": []
    },
    {
      "cell_type": "code",
      "metadata": {
        "colab": {
          "base_uri": "https://localhost:8080/"
        },
        "id": "d_g5xGW1kswp",
        "outputId": "7ae6e15d-8121-4bb5-f280-8e89871e4014"
      },
      "source": [
        "#checking outliers on windspeed.\n",
        "q1, q3= np.percentile(data.windspeed, [25,75])\n",
        "UL= q3 + 1.5*(q3-q1)\n",
        "data[data.windspeed > UL]\n",
        "\n",
        "#windspeed is continuous and looks genuine data. They do not need dropping"
      ],
      "execution_count": null,
      "outputs": [
        {
          "output_type": "execute_result",
          "data": {
            "text/html": [
              "<div>\n",
              "<style scoped>\n",
              "    .dataframe tbody tr th:only-of-type {\n",
              "        vertical-align: middle;\n",
              "    }\n",
              "\n",
              "    .dataframe tbody tr th {\n",
              "        vertical-align: top;\n",
              "    }\n",
              "\n",
              "    .dataframe thead th {\n",
              "        text-align: right;\n",
              "    }\n",
              "</style>\n",
              "<table border=\"1\" class=\"dataframe\">\n",
              "  <thead>\n",
              "    <tr style=\"text-align: right;\">\n",
              "      <th></th>\n",
              "      <th>instant</th>\n",
              "      <th>dteday</th>\n",
              "      <th>season</th>\n",
              "      <th>yr</th>\n",
              "      <th>mnth</th>\n",
              "      <th>holiday</th>\n",
              "      <th>weekday</th>\n",
              "      <th>workingday</th>\n",
              "      <th>weathersit</th>\n",
              "      <th>temp</th>\n",
              "      <th>atemp</th>\n",
              "      <th>hum</th>\n",
              "      <th>windspeed</th>\n",
              "      <th>casual</th>\n",
              "      <th>registered</th>\n",
              "      <th>cnt</th>\n",
              "    </tr>\n",
              "  </thead>\n",
              "  <tbody>\n",
              "    <tr>\n",
              "      <th>44</th>\n",
              "      <td>45</td>\n",
              "      <td>14-02-2018</td>\n",
              "      <td>1</td>\n",
              "      <td>0</td>\n",
              "      <td>2</td>\n",
              "      <td>0</td>\n",
              "      <td>3</td>\n",
              "      <td>1</td>\n",
              "      <td>1</td>\n",
              "      <td>17.015000</td>\n",
              "      <td>19.91750</td>\n",
              "      <td>37.5833</td>\n",
              "      <td>27.999836</td>\n",
              "      <td>208</td>\n",
              "      <td>1705</td>\n",
              "      <td>1913</td>\n",
              "    </tr>\n",
              "    <tr>\n",
              "      <th>49</th>\n",
              "      <td>50</td>\n",
              "      <td>19-02-2018</td>\n",
              "      <td>1</td>\n",
              "      <td>0</td>\n",
              "      <td>2</td>\n",
              "      <td>0</td>\n",
              "      <td>1</td>\n",
              "      <td>1</td>\n",
              "      <td>1</td>\n",
              "      <td>16.365847</td>\n",
              "      <td>19.57020</td>\n",
              "      <td>18.7917</td>\n",
              "      <td>34.000021</td>\n",
              "      <td>532</td>\n",
              "      <td>1103</td>\n",
              "      <td>1635</td>\n",
              "    </tr>\n",
              "    <tr>\n",
              "      <th>93</th>\n",
              "      <td>94</td>\n",
              "      <td>04-04-2018</td>\n",
              "      <td>2</td>\n",
              "      <td>0</td>\n",
              "      <td>4</td>\n",
              "      <td>0</td>\n",
              "      <td>3</td>\n",
              "      <td>1</td>\n",
              "      <td>1</td>\n",
              "      <td>23.506653</td>\n",
              "      <td>27.14645</td>\n",
              "      <td>42.6250</td>\n",
              "      <td>25.833257</td>\n",
              "      <td>734</td>\n",
              "      <td>2381</td>\n",
              "      <td>3115</td>\n",
              "    </tr>\n",
              "    <tr>\n",
              "      <th>94</th>\n",
              "      <td>95</td>\n",
              "      <td>05-04-2018</td>\n",
              "      <td>2</td>\n",
              "      <td>0</td>\n",
              "      <td>4</td>\n",
              "      <td>0</td>\n",
              "      <td>4</td>\n",
              "      <td>1</td>\n",
              "      <td>2</td>\n",
              "      <td>16.980847</td>\n",
              "      <td>19.91750</td>\n",
              "      <td>64.2083</td>\n",
              "      <td>26.000489</td>\n",
              "      <td>167</td>\n",
              "      <td>1628</td>\n",
              "      <td>1795</td>\n",
              "    </tr>\n",
              "    <tr>\n",
              "      <th>292</th>\n",
              "      <td>293</td>\n",
              "      <td>20-10-2018</td>\n",
              "      <td>4</td>\n",
              "      <td>0</td>\n",
              "      <td>10</td>\n",
              "      <td>0</td>\n",
              "      <td>6</td>\n",
              "      <td>0</td>\n",
              "      <td>1</td>\n",
              "      <td>19.509153</td>\n",
              "      <td>23.32625</td>\n",
              "      <td>63.6250</td>\n",
              "      <td>28.292425</td>\n",
              "      <td>471</td>\n",
              "      <td>3724</td>\n",
              "      <td>4195</td>\n",
              "    </tr>\n",
              "    <tr>\n",
              "      <th>382</th>\n",
              "      <td>383</td>\n",
              "      <td>18-01-2019</td>\n",
              "      <td>1</td>\n",
              "      <td>1</td>\n",
              "      <td>1</td>\n",
              "      <td>0</td>\n",
              "      <td>5</td>\n",
              "      <td>1</td>\n",
              "      <td>1</td>\n",
              "      <td>12.436653</td>\n",
              "      <td>13.76270</td>\n",
              "      <td>44.3333</td>\n",
              "      <td>27.833743</td>\n",
              "      <td>109</td>\n",
              "      <td>3267</td>\n",
              "      <td>3376</td>\n",
              "    </tr>\n",
              "    <tr>\n",
              "      <th>407</th>\n",
              "      <td>408</td>\n",
              "      <td>12-02-2019</td>\n",
              "      <td>1</td>\n",
              "      <td>1</td>\n",
              "      <td>2</td>\n",
              "      <td>0</td>\n",
              "      <td>2</td>\n",
              "      <td>1</td>\n",
              "      <td>1</td>\n",
              "      <td>5.227500</td>\n",
              "      <td>5.08290</td>\n",
              "      <td>46.4583</td>\n",
              "      <td>27.417204</td>\n",
              "      <td>73</td>\n",
              "      <td>1456</td>\n",
              "      <td>1529</td>\n",
              "    </tr>\n",
              "    <tr>\n",
              "      <th>420</th>\n",
              "      <td>421</td>\n",
              "      <td>25-02-2019</td>\n",
              "      <td>1</td>\n",
              "      <td>1</td>\n",
              "      <td>2</td>\n",
              "      <td>0</td>\n",
              "      <td>1</td>\n",
              "      <td>1</td>\n",
              "      <td>1</td>\n",
              "      <td>11.924153</td>\n",
              "      <td>12.78375</td>\n",
              "      <td>39.5833</td>\n",
              "      <td>28.250014</td>\n",
              "      <td>317</td>\n",
              "      <td>2415</td>\n",
              "      <td>2732</td>\n",
              "    </tr>\n",
              "    <tr>\n",
              "      <th>431</th>\n",
              "      <td>432</td>\n",
              "      <td>08-03-2019</td>\n",
              "      <td>1</td>\n",
              "      <td>1</td>\n",
              "      <td>3</td>\n",
              "      <td>0</td>\n",
              "      <td>5</td>\n",
              "      <td>1</td>\n",
              "      <td>1</td>\n",
              "      <td>21.627500</td>\n",
              "      <td>26.23020</td>\n",
              "      <td>56.7500</td>\n",
              "      <td>29.584721</td>\n",
              "      <td>486</td>\n",
              "      <td>4896</td>\n",
              "      <td>5382</td>\n",
              "    </tr>\n",
              "    <tr>\n",
              "      <th>432</th>\n",
              "      <td>433</td>\n",
              "      <td>09-03-2019</td>\n",
              "      <td>1</td>\n",
              "      <td>1</td>\n",
              "      <td>3</td>\n",
              "      <td>0</td>\n",
              "      <td>6</td>\n",
              "      <td>0</td>\n",
              "      <td>2</td>\n",
              "      <td>16.844153</td>\n",
              "      <td>19.85415</td>\n",
              "      <td>40.7083</td>\n",
              "      <td>27.791600</td>\n",
              "      <td>447</td>\n",
              "      <td>4122</td>\n",
              "      <td>4569</td>\n",
              "    </tr>\n",
              "    <tr>\n",
              "      <th>449</th>\n",
              "      <td>450</td>\n",
              "      <td>26-03-2019</td>\n",
              "      <td>2</td>\n",
              "      <td>1</td>\n",
              "      <td>3</td>\n",
              "      <td>0</td>\n",
              "      <td>2</td>\n",
              "      <td>1</td>\n",
              "      <td>1</td>\n",
              "      <td>18.279153</td>\n",
              "      <td>21.93750</td>\n",
              "      <td>47.7917</td>\n",
              "      <td>25.917007</td>\n",
              "      <td>795</td>\n",
              "      <td>4763</td>\n",
              "      <td>5558</td>\n",
              "    </tr>\n",
              "    <tr>\n",
              "      <th>665</th>\n",
              "      <td>666</td>\n",
              "      <td>28-10-2019</td>\n",
              "      <td>4</td>\n",
              "      <td>1</td>\n",
              "      <td>10</td>\n",
              "      <td>0</td>\n",
              "      <td>1</td>\n",
              "      <td>1</td>\n",
              "      <td>2</td>\n",
              "      <td>19.577500</td>\n",
              "      <td>23.38855</td>\n",
              "      <td>69.4583</td>\n",
              "      <td>26.666536</td>\n",
              "      <td>998</td>\n",
              "      <td>3461</td>\n",
              "      <td>4459</td>\n",
              "    </tr>\n",
              "    <tr>\n",
              "      <th>720</th>\n",
              "      <td>721</td>\n",
              "      <td>22-12-2019</td>\n",
              "      <td>1</td>\n",
              "      <td>1</td>\n",
              "      <td>12</td>\n",
              "      <td>0</td>\n",
              "      <td>0</td>\n",
              "      <td>0</td>\n",
              "      <td>1</td>\n",
              "      <td>10.899153</td>\n",
              "      <td>11.80565</td>\n",
              "      <td>44.1250</td>\n",
              "      <td>27.292182</td>\n",
              "      <td>205</td>\n",
              "      <td>1544</td>\n",
              "      <td>1749</td>\n",
              "    </tr>\n",
              "  </tbody>\n",
              "</table>\n",
              "</div>"
            ],
            "text/plain": [
              "     instant      dteday  season  yr  ...  windspeed  casual  registered   cnt\n",
              "44        45  14-02-2018       1   0  ...  27.999836     208        1705  1913\n",
              "49        50  19-02-2018       1   0  ...  34.000021     532        1103  1635\n",
              "93        94  04-04-2018       2   0  ...  25.833257     734        2381  3115\n",
              "94        95  05-04-2018       2   0  ...  26.000489     167        1628  1795\n",
              "292      293  20-10-2018       4   0  ...  28.292425     471        3724  4195\n",
              "382      383  18-01-2019       1   1  ...  27.833743     109        3267  3376\n",
              "407      408  12-02-2019       1   1  ...  27.417204      73        1456  1529\n",
              "420      421  25-02-2019       1   1  ...  28.250014     317        2415  2732\n",
              "431      432  08-03-2019       1   1  ...  29.584721     486        4896  5382\n",
              "432      433  09-03-2019       1   1  ...  27.791600     447        4122  4569\n",
              "449      450  26-03-2019       2   1  ...  25.917007     795        4763  5558\n",
              "665      666  28-10-2019       4   1  ...  26.666536     998        3461  4459\n",
              "720      721  22-12-2019       1   1  ...  27.292182     205        1544  1749\n",
              "\n",
              "[13 rows x 16 columns]"
            ]
          },
          "metadata": {
            "tags": []
          },
          "execution_count": 12
        }
      ]
    },
    {
      "cell_type": "code",
      "metadata": {
        "id": "Ti5O9kpDoEyz"
      },
      "source": [
        "#reseting the index aftre dropping the rows.\n",
        "data.reset_index(inplace=True)"
      ],
      "execution_count": null,
      "outputs": []
    },
    {
      "cell_type": "markdown",
      "metadata": {
        "id": "hoPjd4Vl5odg"
      },
      "source": [
        "##### Explortory Data Analysis ##### "
      ]
    },
    {
      "cell_type": "code",
      "metadata": {
        "id": "-XlrlBL09E5u"
      },
      "source": [
        "#custom function for plotting \n",
        "def myPlot(x, y, data=data, title=None):\n",
        "  \n",
        "  fig = plt.figure(figsize=[10,3])\n",
        "  plt.subplot(1,2,1)\n",
        "  sns.stripplot(data=data, x=x, y=y)\n",
        "  plt.subplot(1,2,2)\n",
        "  sns.boxplot(data=data, x=x, y=y)\n",
        "  if title:\n",
        "    plt.suptitle(title, fontsize=20, fontweight='bold')\n",
        "  else:\n",
        "    plt.suptitle(f'{x} Vs {y}', fontsize=20, fontweight='bold')"
      ],
      "execution_count": null,
      "outputs": []
    },
    {
      "cell_type": "code",
      "metadata": {
        "colab": {
          "base_uri": "https://localhost:8080/"
        },
        "id": "MP51d0ua5zdM",
        "outputId": "a1594026-f663-4c40-904d-9f1b8b4c5adb"
      },
      "source": [
        "#plotting season vs bike hire\n",
        "myPlot('season', 'cnt', data, 'Season vs Bike Hire')\n",
        "\n",
        "#Season Codes :- 1:spring, 2:summer, 3:fall, 4:winter\n",
        "#Summer, Fall, Winter season has good traction of cycle demand. Spring has less demand comapred to other three."
      ],
      "execution_count": null,
      "outputs": [
        {
          "output_type": "display_data",
          "data": {
            "image/png": "[encoded data removed]",
            "text/plain": [
              "<Figure size 720x216 with 2 Axes>"
            ]
          },
          "metadata": {
            "tags": [],
            "needs_background": "light"
          }
        }
      ]
    },
    {
      "cell_type": "code",
      "metadata": {
        "colab": {
          "base_uri": "https://localhost:8080/"
        },
        "id": "xqy68djw6U6v",
        "outputId": "ac6123b5-7dc0-453c-82d9-ae224b8fa36a"
      },
      "source": [
        "#plotting year vs bike hire\n",
        "myPlot('yr', 'cnt', data, 'Year Vs Bike Hire')\n",
        "\n",
        "# year code :- 0: 2018, 1:2019\n",
        "# 2019 has more bike hire as compared to previous year-2018"
      ],
      "execution_count": null,
      "outputs": [
        {
          "output_type": "display_data",
          "data": {
            "image/png": "[encoded data removed]",
            "text/plain": [
              "<Figure size 720x216 with 2 Axes>"
            ]
          },
          "metadata": {
            "tags": [],
            "needs_background": "light"
          }
        }
      ]
    },
    {
      "cell_type": "code",
      "metadata": {
        "colab": {
          "base_uri": "https://localhost:8080/"
        },
        "id": "kzNrKIjhAJli",
        "outputId": "4682ac8f-2c40-4cfc-fe88-cdfcd1dcd910"
      },
      "source": [
        "#plotting months vs bike hire\n",
        "myPlot('mnth', 'cnt', data, 'Month Vs Bike Hire')\n",
        "\n",
        "# Summer and Fall months have high bike hire count. Winter months have less bike hiring. "
      ],
      "execution_count": null,
      "outputs": [
        {
          "output_type": "display_data",
          "data": {
            "image/png": "[encoded data removed]",
            "text/plain": [
              "<Figure size 720x216 with 2 Axes>"
            ]
          },
          "metadata": {
            "tags": [],
            "needs_background": "light"
          }
        }
      ]
    },
    {
      "cell_type": "code",
      "metadata": {
        "colab": {
          "base_uri": "https://localhost:8080/"
        },
        "id": "innIa7B7AwIa",
        "outputId": "bdb231d1-29fb-4863-85a9-c9d903bb59e6"
      },
      "source": [
        "# Weekday Vs Count Vs WorkingDay Vs Year \n",
        "fig = plt.figure(figsize=[20, 8])\n",
        "data_2018 = data[data.yr==0]\n",
        "data_2019 = data[data.yr==1]\n",
        "plt.subplot(2,2,1)\n",
        "sns.stripplot(data=data_2018, x='weekday', y='cnt', hue='workingday')\n",
        "plt.xlabel('weekday_2018')\n",
        "plt.legend(loc=[1.01,0])\n",
        "plt.subplot(2,2,2)\n",
        "sns.boxplot(data=data_2018, x='weekday', y='cnt', hue='workingday')\n",
        "plt.xlabel('weekday_2018')\n",
        "plt.legend(loc=[1.01,0])\n",
        "\n",
        "plt.subplot(2,2,3)\n",
        "sns.stripplot(data=data_2019, x='weekday', y='cnt', hue='workingday')\n",
        "plt.xlabel('weekday_2019')\n",
        "plt.legend(loc=[1.01,0])\n",
        "plt.subplot(2,2,4)\n",
        "sns.boxplot(data=data_2019, x='weekday', y='cnt', hue='workingday')\n",
        "plt.xlabel('weekday_2019')\n",
        "plt.legend(loc=[1.01,0])\n",
        "\n",
        "plt.suptitle('Weekday Vs Count Vs WorkingDay Vs Year', fontsize=20, fontweight='bold')\n",
        "plt.show()\n",
        "\n",
        "# Bike Hire follows the same pattern for both weekdays and weekends.\n",
        "# Weekdauys which are not working see lower bike hire.\n",
        "# Bike hire in 2019 is higher than that of 2018"
      ],
      "execution_count": null,
      "outputs": [
        {
          "output_type": "display_data",
          "data": {
            "image/png": "[encoded data removed]",
            "text/plain": [
              "<Figure size 1440x576 with 4 Axes>"
            ]
          },
          "metadata": {
            "tags": [],
            "needs_background": "light"
          }
        }
      ]
    },
    {
      "cell_type": "code",
      "metadata": {
        "colab": {
          "base_uri": "https://localhost:8080/"
        },
        "id": "Hmi2PSMoCbRo",
        "outputId": "4b7736ba-28a3-45bd-eabc-7ff1e5229d28"
      },
      "source": [
        "# Weekday Vs Count Vs Holiday Vs Year\n",
        "fig = plt.figure(figsize=[20, 8])\n",
        "data_2018 = data[data.yr==0]\n",
        "data_2019 = data[data.yr==1]\n",
        "plt.subplot(2,2,1)\n",
        "sns.stripplot(data=data_2018, x='weekday', y='cnt', hue='holiday')\n",
        "plt.xlabel('weekday_2018')\n",
        "plt.legend(loc=[1.01,0])\n",
        "plt.subplot(2,2,2)\n",
        "sns.boxplot(data=data_2018, x='weekday', y='cnt', hue='holiday')\n",
        "plt.xlabel('weekday_2018')\n",
        "plt.legend(loc=[1.01,0])\n",
        "\n",
        "plt.subplot(2,2,3)\n",
        "sns.stripplot(data=data_2019, x='weekday', y='cnt', hue='holiday')\n",
        "plt.xlabel('weekday_2019')\n",
        "plt.legend(loc=[1.01,0])\n",
        "plt.subplot(2,2,4)\n",
        "sns.boxplot(data=data_2019, x='weekday', y='cnt', hue='holiday')\n",
        "plt.xlabel('weekday_2019')\n",
        "plt.legend(loc=[1.01,0])\n",
        "\n",
        "plt.suptitle('Weekday Vs Count Vs Holiday Vs Year', fontsize=20, fontweight='bold')\n",
        "plt.show()\n",
        "\n",
        "# 2019 has more bike hire than 2018\n",
        "# Holiday doesnot make any visible difference in hiring pattern."
      ],
      "execution_count": null,
      "outputs": [
        {
          "output_type": "display_data",
          "data": {
            "image/png": "[encoded data removed]",
            "text/plain": [
              "<Figure size 1440x576 with 4 Axes>"
            ]
          },
          "metadata": {
            "tags": [],
            "needs_background": "light"
          }
        }
      ]
    },
    {
      "cell_type": "code",
      "metadata": {
        "colab": {
          "base_uri": "https://localhost:8080/"
        },
        "id": "6nJsoeVstHNq",
        "outputId": "e0c52dc6-f847-4b7d-ff07-08d119d14ca8"
      },
      "source": [
        "# weathersit\n",
        "myPlot(x='weathersit', y='cnt', data=data, title='Wheater Situation Vs Bike Hire Count')\n",
        "\n",
        "# Wheather Situation Codes\n",
        "# - 1: Clear, Few clouds, Partly cloudy, Partly cloudy\n",
        "# - 2: Mist + Cloudy, Mist + Broken clouds, Mist + Few clouds, Mist\n",
        "# - 3: Light Snow, Light Rain + Thunderstorm + Scattered clouds, Light Rain + Scattered clouds\n",
        "# - 4: Heavy Rain + Ice Pallets + Thunderstorm + Mist, Snow + Fog\n",
        "\n",
        "# Wheather Situation drives bike hire count. Clear weather has more bike hire."
      ],
      "execution_count": null,
      "outputs": [
        {
          "output_type": "display_data",
          "data": {
            "image/png": "[encoded data removed]",
            "text/plain": [
              "<Figure size 720x216 with 2 Axes>"
            ]
          },
          "metadata": {
            "tags": [],
            "needs_background": "light"
          }
        }
      ]
    },
    {
      "cell_type": "code",
      "metadata": {
        "colab": {
          "base_uri": "https://localhost:8080/"
        },
        "id": "sDg8JuvnGE--",
        "outputId": "ae677ac9-b728-4aae-f1bc-3002cd74543f"
      },
      "source": [
        "# temperature Vs bike hire\n",
        "plt.title('Temerature Vs Bike Hire Count', fontdict={'fontsize':20, 'fontweight':'bold'})\n",
        "sns.scatterplot(x='temp', y='cnt', data=data)\n",
        "plt.show()\n",
        "# temerature has positive correlation with the bike hire count"
      ],
      "execution_count": null,
      "outputs": [
        {
          "output_type": "display_data",
          "data": {
            "image/png": "[encoded data removed]",
            "text/plain": [
              "<Figure size 432x288 with 1 Axes>"
            ]
          },
          "metadata": {
            "tags": [],
            "needs_background": "light"
          }
        }
      ]
    },
    {
      "cell_type": "code",
      "metadata": {
        "colab": {
          "base_uri": "https://localhost:8080/"
        },
        "id": "e0WbJ-ypIFG1",
        "outputId": "1590b8f9-e347-4a74-811b-6fb980d73920"
      },
      "source": [
        "# Humidity Vs bike hire\n",
        "plt.title('Humidity Vs Bike Hire Count', fontdict={'fontsize':20, 'fontweight':'bold'})\n",
        "sns.scatterplot(x='hum', y='cnt', data=data, alpha=0.4)\n",
        "plt.show()\n",
        "# It appears that bike hiring increases with humidity till 70 and then decreaes."
      ],
      "execution_count": null,
      "outputs": [
        {
          "output_type": "display_data",
          "data": {
            "image/png": "[encoded data removed]",
            "text/plain": [
              "<Figure size 432x288 with 1 Axes>"
            ]
          },
          "metadata": {
            "tags": [],
            "needs_background": "light"
          }
        }
      ]
    },
    {
      "cell_type": "code",
      "metadata": {
        "colab": {
          "base_uri": "https://localhost:8080/"
        },
        "id": "zVzjZ8KdIoVm",
        "outputId": "51885323-7776-4cf7-9c05-6afff1bd5227"
      },
      "source": [
        "# windspeed Vs bike hire\n",
        "plt.title('Wind Speed Vs Bike Hire Count', fontdict={'fontsize':20, 'fontweight':'bold'})\n",
        "sns.scatterplot(x='windspeed', y='cnt', data=data, alpha=0.4)\n",
        "plt.show()\n",
        "# Higher is the windspeed lower is the bike hire count."
      ],
      "execution_count": null,
      "outputs": [
        {
          "output_type": "display_data",
          "data": {
            "image/png": "[encoded data removed]",
            "text/plain": [
              "<Figure size 432x288 with 1 Axes>"
            ]
          },
          "metadata": {
            "tags": [],
            "needs_background": "light"
          }
        }
      ]
    },
    {
      "cell_type": "code",
      "metadata": {
        "colab": {
          "base_uri": "https://localhost:8080/"
        },
        "id": "NLztZSnXKjef",
        "outputId": "4ab54fbb-4ca7-487b-be8f-c4b83ecbaa15"
      },
      "source": [
        "# Corrmatrix between numerical variables\n",
        "sns.heatmap(data[num_cols].corr('spearman'), cmap='Greens')\n",
        "plt.title('Corrmatrix between numerical variables', fontdict={'fontsize':10, 'fontweight':'bold'})\n",
        "plt.show()\n",
        "\n",
        "# temperature has positive correlation with bike hire count.\n",
        "# temp and atemp are highly positively related.\n",
        "# casual, registered and hire count are positively related.\n",
        "# windspeed and humidity are negatively related.\n",
        "\n",
        "# Strong relation between some variables gives chance of multicollinearity."
      ],
      "execution_count": null,
      "outputs": [
        {
          "output_type": "display_data",
          "data": {
            "image/png": "[encoded data removed]",
            "text/plain": [
              "<Figure size 432x288 with 2 Axes>"
            ]
          },
          "metadata": {
            "tags": [],
            "needs_background": "light"
          }
        }
      ]
    },
    {
      "cell_type": "code",
      "metadata": {
        "colab": {
          "base_uri": "https://localhost:8080/"
        },
        "id": "VAa-YxtcGZSL",
        "outputId": "90b896dc-0393-4d18-b8d1-c5e47c22c2f7"
      },
      "source": [
        "#pair-plot between numerical columns wrt target.\n",
        "sns.pairplot(data=data[num_cols], y_vars=['cnt'])\n",
        "plt.show()\n",
        "\n",
        "# temp and atemp has strong positive correlation with target variable - cnt \n",
        "# casual and registered also has strong positive correlation with cnt. but casual + registered = cnt. so we can ignore them."
      ],
      "execution_count": null,
      "outputs": [
        {
          "output_type": "display_data",
          "data": {
            "image/png": "[encoded data removed]",
            "text/plain": [
              "<Figure size 1260x180 with 8 Axes>"
            ]
          },
          "metadata": {
            "tags": [],
            "needs_background": "light"
          }
        }
      ]
    },
    {
      "cell_type": "markdown",
      "metadata": {
        "id": "Wkqgu3feuRZw"
      },
      "source": [
        "##### train test split #####"
      ]
    },
    {
      "cell_type": "code",
      "metadata": {
        "id": "R9Mpej8aTRDg"
      },
      "source": [
        "#dropping casual and registered as they constitute the part of cnt.\n",
        "data.drop(columns=['casual', 'registered'], inplace=True)\n",
        "cat_cols = ['season', 'yr', 'mnth', 'holiday', 'weekday', 'workingday', 'weathersit']\n",
        "num_cols = ['temp', 'atemp', 'hum', 'windspeed','cnt']"
      ],
      "execution_count": null,
      "outputs": []
    },
    {
      "cell_type": "code",
      "metadata": {
        "id": "6D0ZNaEmoMa9"
      },
      "source": [
        "#convert coded data into their original value. This helps in creating label for One hot encoding.\n",
        "data['season'] = data.season.map({1:'spring', 2:'summer', 3:'fall', 4:'winter'})\n",
        "data['yr'] = data.yr.map({0:'year_2018', 1:'year_2019'})\n",
        "data['mnth'] = data.mnth.map({1:'jan', 2:'feb', 3:'mar', 4:'apr', 5:'may', 6:'jun',\n",
        "               7:'jul', 8:'aug', 9:'sep', 10:'oct', 11:'nov', 12:'dec'})\n",
        "data['holiday'] = data.holiday.map({0:'h_yes', 1:'h_no'})\n",
        "data['weekday'] = data.weekday.map({0:'sun', 1:'mon', 2:'tue', 3:'wed', 4:'thu', 5:'fri', 6:'sat'})\n",
        "data['workingday'] = data.workingday.map({0:'wor_no', 1:'wor_yes'})\n",
        "data['weathersit'] = data.weathersit.map({1:'weth_1', 2:'weth_2', 3:'weth_3', 4:'weth_4'})"
      ],
      "execution_count": null,
      "outputs": []
    },
    {
      "cell_type": "code",
      "metadata": {
        "id": "gTIdYGdHuIS1"
      },
      "source": [
        "from sklearn.model_selection import train_test_split"
      ],
      "execution_count": null,
      "outputs": []
    },
    {
      "cell_type": "code",
      "metadata": {
        "id": "NVmb0W1H2Jjm"
      },
      "source": [
        "#split into train and test data set. test_size is 30% and random_state=42\n",
        "data_train, data_test = train_test_split(data, test_size=0.30, random_state=42)"
      ],
      "execution_count": null,
      "outputs": []
    },
    {
      "cell_type": "code",
      "metadata": {
        "colab": {
          "base_uri": "https://localhost:8080/"
        },
        "id": "VMT2NmEyZF8Y",
        "outputId": "ff7dc49a-2b41-4cc1-ec68-5b4c652def7c"
      },
      "source": [
        "print(f'Shape(Train Dataset):{data_train.shape}')\n",
        "print(f'Shape(Test Dataset) :{data_test.shape}')"
      ],
      "execution_count": null,
      "outputs": [
        {
          "output_type": "stream",
          "text": [
            "Shape(Train Dataset):(510, 15)\n",
            "Shape(Test Dataset) :(219, 15)\n"
          ],
          "name": "stdout"
        }
      ]
    },
    {
      "cell_type": "markdown",
      "metadata": {
        "id": "sNPBs4y2lW56"
      },
      "source": [
        "##### Preparing Data For Analysis ##### "
      ]
    },
    {
      "cell_type": "code",
      "metadata": {
        "id": "ABIiOyBileXv"
      },
      "source": [
        "#perform one-hot encoding of categorical variables.\n",
        "from sklearn.preprocessing import OneHotEncoder"
      ],
      "execution_count": null,
      "outputs": []
    },
    {
      "cell_type": "code",
      "metadata": {
        "colab": {
          "base_uri": "https://localhost:8080/"
        },
        "id": "jPh8SM0BmFwg",
        "outputId": "7eddc1d1-60e9-42e7-a3d7-57f82d1b84c8"
      },
      "source": [
        "#instantiate one hot encoder for different categorical variables\n",
        "cat_encoder = OneHotEncoder(handle_unknown='ignore', sparse=False)\n",
        "cat_encoder.fit(data_train[cat_cols])\n",
        "cat_encoder.categories_"
      ],
      "execution_count": null,
      "outputs": [
        {
          "output_type": "execute_result",
          "data": {
            "text/plain": [
              "[array(['fall', 'spring', 'summer', 'winter'], dtype=object),\n",
              " array(['year_2018', 'year_2019'], dtype=object),\n",
              " array(['apr', 'aug', 'dec', 'feb', 'jan', 'jul', 'jun', 'mar', 'may',\n",
              "        'nov', 'oct', 'sep'], dtype=object),\n",
              " array(['h_no', 'h_yes'], dtype=object),\n",
              " array(['fri', 'mon', 'sat', 'sun', 'thu', 'tue', 'wed'], dtype=object),\n",
              " array(['wor_no', 'wor_yes'], dtype=object),\n",
              " array(['weth_1', 'weth_2', 'weth_3'], dtype=object)]"
            ]
          },
          "metadata": {
            "tags": []
          },
          "execution_count": 32
        }
      ]
    },
    {
      "cell_type": "code",
      "metadata": {
        "colab": {
          "base_uri": "https://localhost:8080/"
        },
        "id": "wWUP2TczTIex",
        "outputId": "e68b90ee-2208-4654-a933-0b383c06243b"
      },
      "source": [
        "col_names = []\n",
        "for i in cat_encoder.categories_:\n",
        "  col_names.extend(i)\n",
        "print(col_names)"
      ],
      "execution_count": null,
      "outputs": [
        {
          "output_type": "stream",
          "text": [
            "['fall', 'spring', 'summer', 'winter', 'year_2018', 'year_2019', 'apr', 'aug', 'dec', 'feb', 'jan', 'jul', 'jun', 'mar', 'may', 'nov', 'oct', 'sep', 'h_no', 'h_yes', 'fri', 'mon', 'sat', 'sun', 'thu', 'tue', 'wed', 'wor_no', 'wor_yes', 'weth_1', 'weth_2', 'weth_3']\n"
          ],
          "name": "stdout"
        }
      ]
    },
    {
      "cell_type": "code",
      "metadata": {
        "colab": {
          "base_uri": "https://localhost:8080/"
        },
        "id": "MvKb__pYmr-e",
        "outputId": "162807e6-d3c6-4918-95a1-7c526b4af0ad"
      },
      "source": [
        "#create DF with one hot encoded columns. Here we are not dropping teh first dummy column . We will drop that during model building.\n",
        "\n",
        "X = pd.DataFrame(cat_encoder.transform(data_train[cat_cols]), columns=col_names)\n",
        "X.head()"
      ],
      "execution_count": null,
      "outputs": [
        {
          "output_type": "execute_result",
          "data": {
            "text/html": [
              "<div>\n",
              "<style scoped>\n",
              "    .dataframe tbody tr th:only-of-type {\n",
              "        vertical-align: middle;\n",
              "    }\n",
              "\n",
              "    .dataframe tbody tr th {\n",
              "        vertical-align: top;\n",
              "    }\n",
              "\n",
              "    .dataframe thead th {\n",
              "        text-align: right;\n",
              "    }\n",
              "</style>\n",
              "<table border=\"1\" class=\"dataframe\">\n",
              "  <thead>\n",
              "    <tr style=\"text-align: right;\">\n",
              "      <th></th>\n",
              "      <th>fall</th>\n",
              "      <th>spring</th>\n",
              "      <th>summer</th>\n",
              "      <th>winter</th>\n",
              "      <th>year_2018</th>\n",
              "      <th>year_2019</th>\n",
              "      <th>apr</th>\n",
              "      <th>aug</th>\n",
              "      <th>dec</th>\n",
              "      <th>feb</th>\n",
              "      <th>jan</th>\n",
              "      <th>jul</th>\n",
              "      <th>jun</th>\n",
              "      <th>mar</th>\n",
              "      <th>may</th>\n",
              "      <th>nov</th>\n",
              "      <th>oct</th>\n",
              "      <th>sep</th>\n",
              "      <th>h_no</th>\n",
              "      <th>h_yes</th>\n",
              "      <th>fri</th>\n",
              "      <th>mon</th>\n",
              "      <th>sat</th>\n",
              "      <th>sun</th>\n",
              "      <th>thu</th>\n",
              "      <th>tue</th>\n",
              "      <th>wed</th>\n",
              "      <th>wor_no</th>\n",
              "      <th>wor_yes</th>\n",
              "      <th>weth_1</th>\n",
              "      <th>weth_2</th>\n",
              "      <th>weth_3</th>\n",
              "    </tr>\n",
              "  </thead>\n",
              "  <tbody>\n",
              "    <tr>\n",
              "      <th>0</th>\n",
              "      <td>0.0</td>\n",
              "      <td>0.0</td>\n",
              "      <td>0.0</td>\n",
              "      <td>1.0</td>\n",
              "      <td>0.0</td>\n",
              "      <td>1.0</td>\n",
              "      <td>0.0</td>\n",
              "      <td>0.0</td>\n",
              "      <td>0.0</td>\n",
              "      <td>0.0</td>\n",
              "      <td>0.0</td>\n",
              "      <td>0.0</td>\n",
              "      <td>0.0</td>\n",
              "      <td>0.0</td>\n",
              "      <td>0.0</td>\n",
              "      <td>1.0</td>\n",
              "      <td>0.0</td>\n",
              "      <td>0.0</td>\n",
              "      <td>0.0</td>\n",
              "      <td>1.0</td>\n",
              "      <td>1.0</td>\n",
              "      <td>0.0</td>\n",
              "      <td>0.0</td>\n",
              "      <td>0.0</td>\n",
              "      <td>0.0</td>\n",
              "      <td>0.0</td>\n",
              "      <td>0.0</td>\n",
              "      <td>0.0</td>\n",
              "      <td>1.0</td>\n",
              "      <td>0.0</td>\n",
              "      <td>1.0</td>\n",
              "      <td>0.0</td>\n",
              "    </tr>\n",
              "    <tr>\n",
              "      <th>1</th>\n",
              "      <td>0.0</td>\n",
              "      <td>0.0</td>\n",
              "      <td>0.0</td>\n",
              "      <td>1.0</td>\n",
              "      <td>0.0</td>\n",
              "      <td>1.0</td>\n",
              "      <td>0.0</td>\n",
              "      <td>0.0</td>\n",
              "      <td>0.0</td>\n",
              "      <td>0.0</td>\n",
              "      <td>0.0</td>\n",
              "      <td>0.0</td>\n",
              "      <td>0.0</td>\n",
              "      <td>0.0</td>\n",
              "      <td>0.0</td>\n",
              "      <td>0.0</td>\n",
              "      <td>1.0</td>\n",
              "      <td>0.0</td>\n",
              "      <td>1.0</td>\n",
              "      <td>0.0</td>\n",
              "      <td>0.0</td>\n",
              "      <td>0.0</td>\n",
              "      <td>0.0</td>\n",
              "      <td>0.0</td>\n",
              "      <td>0.0</td>\n",
              "      <td>1.0</td>\n",
              "      <td>0.0</td>\n",
              "      <td>1.0</td>\n",
              "      <td>0.0</td>\n",
              "      <td>0.0</td>\n",
              "      <td>1.0</td>\n",
              "      <td>0.0</td>\n",
              "    </tr>\n",
              "    <tr>\n",
              "      <th>2</th>\n",
              "      <td>0.0</td>\n",
              "      <td>0.0</td>\n",
              "      <td>1.0</td>\n",
              "      <td>0.0</td>\n",
              "      <td>1.0</td>\n",
              "      <td>0.0</td>\n",
              "      <td>0.0</td>\n",
              "      <td>0.0</td>\n",
              "      <td>0.0</td>\n",
              "      <td>0.0</td>\n",
              "      <td>0.0</td>\n",
              "      <td>0.0</td>\n",
              "      <td>1.0</td>\n",
              "      <td>0.0</td>\n",
              "      <td>0.0</td>\n",
              "      <td>0.0</td>\n",
              "      <td>0.0</td>\n",
              "      <td>0.0</td>\n",
              "      <td>0.0</td>\n",
              "      <td>1.0</td>\n",
              "      <td>0.0</td>\n",
              "      <td>0.0</td>\n",
              "      <td>0.0</td>\n",
              "      <td>0.0</td>\n",
              "      <td>1.0</td>\n",
              "      <td>0.0</td>\n",
              "      <td>0.0</td>\n",
              "      <td>0.0</td>\n",
              "      <td>1.0</td>\n",
              "      <td>1.0</td>\n",
              "      <td>0.0</td>\n",
              "      <td>0.0</td>\n",
              "    </tr>\n",
              "    <tr>\n",
              "      <th>3</th>\n",
              "      <td>0.0</td>\n",
              "      <td>1.0</td>\n",
              "      <td>0.0</td>\n",
              "      <td>0.0</td>\n",
              "      <td>1.0</td>\n",
              "      <td>0.0</td>\n",
              "      <td>0.0</td>\n",
              "      <td>0.0</td>\n",
              "      <td>1.0</td>\n",
              "      <td>0.0</td>\n",
              "      <td>0.0</td>\n",
              "      <td>0.0</td>\n",
              "      <td>0.0</td>\n",
              "      <td>0.0</td>\n",
              "      <td>0.0</td>\n",
              "      <td>0.0</td>\n",
              "      <td>0.0</td>\n",
              "      <td>0.0</td>\n",
              "      <td>0.0</td>\n",
              "      <td>1.0</td>\n",
              "      <td>1.0</td>\n",
              "      <td>0.0</td>\n",
              "      <td>0.0</td>\n",
              "      <td>0.0</td>\n",
              "      <td>0.0</td>\n",
              "      <td>0.0</td>\n",
              "      <td>0.0</td>\n",
              "      <td>0.0</td>\n",
              "      <td>1.0</td>\n",
              "      <td>1.0</td>\n",
              "      <td>0.0</td>\n",
              "      <td>0.0</td>\n",
              "    </tr>\n",
              "    <tr>\n",
              "      <th>4</th>\n",
              "      <td>0.0</td>\n",
              "      <td>0.0</td>\n",
              "      <td>0.0</td>\n",
              "      <td>1.0</td>\n",
              "      <td>0.0</td>\n",
              "      <td>1.0</td>\n",
              "      <td>0.0</td>\n",
              "      <td>0.0</td>\n",
              "      <td>0.0</td>\n",
              "      <td>0.0</td>\n",
              "      <td>0.0</td>\n",
              "      <td>0.0</td>\n",
              "      <td>0.0</td>\n",
              "      <td>0.0</td>\n",
              "      <td>0.0</td>\n",
              "      <td>0.0</td>\n",
              "      <td>1.0</td>\n",
              "      <td>0.0</td>\n",
              "      <td>0.0</td>\n",
              "      <td>1.0</td>\n",
              "      <td>0.0</td>\n",
              "      <td>0.0</td>\n",
              "      <td>0.0</td>\n",
              "      <td>0.0</td>\n",
              "      <td>1.0</td>\n",
              "      <td>0.0</td>\n",
              "      <td>0.0</td>\n",
              "      <td>0.0</td>\n",
              "      <td>1.0</td>\n",
              "      <td>0.0</td>\n",
              "      <td>1.0</td>\n",
              "      <td>0.0</td>\n",
              "    </tr>\n",
              "  </tbody>\n",
              "</table>\n",
              "</div>"
            ],
            "text/plain": [
              "   fall  spring  summer  winter  ...  wor_yes  weth_1  weth_2  weth_3\n",
              "0   0.0     0.0     0.0     1.0  ...      1.0     0.0     1.0     0.0\n",
              "1   0.0     0.0     0.0     1.0  ...      0.0     0.0     1.0     0.0\n",
              "2   0.0     0.0     1.0     0.0  ...      1.0     1.0     0.0     0.0\n",
              "3   0.0     1.0     0.0     0.0  ...      1.0     1.0     0.0     0.0\n",
              "4   0.0     0.0     0.0     1.0  ...      1.0     0.0     1.0     0.0\n",
              "\n",
              "[5 rows x 32 columns]"
            ]
          },
          "metadata": {
            "tags": []
          },
          "execution_count": 34
        }
      ]
    },
    {
      "cell_type": "code",
      "metadata": {
        "colab": {
          "base_uri": "https://localhost:8080/"
        },
        "id": "FWlF3RSps3yF",
        "outputId": "565903b6-d32f-41d0-ba15-0518f5752f76"
      },
      "source": [
        "# scaling the numerical variables\n",
        "from sklearn.preprocessing import MinMaxScaler\n",
        "pred_scalar = MinMaxScaler()\n",
        "scaled_num_data = pd.DataFrame(pred_scalar.fit_transform(data_train[num_cols[0:-1]]), columns=num_cols[0:-1])\n",
        "scaled_num_data.head()"
      ],
      "execution_count": null,
      "outputs": [
        {
          "output_type": "execute_result",
          "data": {
            "text/html": [
              "<div>\n",
              "<style scoped>\n",
              "    .dataframe tbody tr th:only-of-type {\n",
              "        vertical-align: middle;\n",
              "    }\n",
              "\n",
              "    .dataframe tbody tr th {\n",
              "        vertical-align: top;\n",
              "    }\n",
              "\n",
              "    .dataframe thead th {\n",
              "        text-align: right;\n",
              "    }\n",
              "</style>\n",
              "<table border=\"1\" class=\"dataframe\">\n",
              "  <thead>\n",
              "    <tr style=\"text-align: right;\">\n",
              "      <th></th>\n",
              "      <th>temp</th>\n",
              "      <th>atemp</th>\n",
              "      <th>hum</th>\n",
              "      <th>windspeed</th>\n",
              "    </tr>\n",
              "  </thead>\n",
              "  <tbody>\n",
              "    <tr>\n",
              "      <th>0</th>\n",
              "      <td>0.327133</td>\n",
              "      <td>0.322150</td>\n",
              "      <td>0.511344</td>\n",
              "      <td>0.327101</td>\n",
              "    </tr>\n",
              "    <tr>\n",
              "      <th>1</th>\n",
              "      <td>0.403972</td>\n",
              "      <td>0.404998</td>\n",
              "      <td>0.635834</td>\n",
              "      <td>0.419004</td>\n",
              "    </tr>\n",
              "    <tr>\n",
              "      <th>2</th>\n",
              "      <td>0.679142</td>\n",
              "      <td>0.672694</td>\n",
              "      <td>0.353111</td>\n",
              "      <td>0.618387</td>\n",
              "    </tr>\n",
              "    <tr>\n",
              "      <th>3</th>\n",
              "      <td>0.299051</td>\n",
              "      <td>0.263714</td>\n",
              "      <td>0.348686</td>\n",
              "      <td>0.680198</td>\n",
              "    </tr>\n",
              "    <tr>\n",
              "      <th>4</th>\n",
              "      <td>0.745598</td>\n",
              "      <td>0.682653</td>\n",
              "      <td>0.753345</td>\n",
              "      <td>0.110593</td>\n",
              "    </tr>\n",
              "  </tbody>\n",
              "</table>\n",
              "</div>"
            ],
            "text/plain": [
              "       temp     atemp       hum  windspeed\n",
              "0  0.327133  0.322150  0.511344   0.327101\n",
              "1  0.403972  0.404998  0.635834   0.419004\n",
              "2  0.679142  0.672694  0.353111   0.618387\n",
              "3  0.299051  0.263714  0.348686   0.680198\n",
              "4  0.745598  0.682653  0.753345   0.110593"
            ]
          },
          "metadata": {
            "tags": []
          },
          "execution_count": 35
        }
      ]
    },
    {
      "cell_type": "code",
      "metadata": {
        "colab": {
          "base_uri": "https://localhost:8080/"
        },
        "id": "uBBzI9ktm9iO",
        "outputId": "48c32548-bb24-4792-a9fe-60a8fbfbfe2d"
      },
      "source": [
        "#concat one hot encoded categorical columns with numerical columns\n",
        "X_train = pd.concat([X, scaled_num_data], axis=1)\n",
        "X_train.head()"
      ],
      "execution_count": null,
      "outputs": [
        {
          "output_type": "execute_result",
          "data": {
            "text/html": [
              "<div>\n",
              "<style scoped>\n",
              "    .dataframe tbody tr th:only-of-type {\n",
              "        vertical-align: middle;\n",
              "    }\n",
              "\n",
              "    .dataframe tbody tr th {\n",
              "        vertical-align: top;\n",
              "    }\n",
              "\n",
              "    .dataframe thead th {\n",
              "        text-align: right;\n",
              "    }\n",
              "</style>\n",
              "<table border=\"1\" class=\"dataframe\">\n",
              "  <thead>\n",
              "    <tr style=\"text-align: right;\">\n",
              "      <th></th>\n",
              "      <th>fall</th>\n",
              "      <th>spring</th>\n",
              "      <th>summer</th>\n",
              "      <th>winter</th>\n",
              "      <th>year_2018</th>\n",
              "      <th>year_2019</th>\n",
              "      <th>apr</th>\n",
              "      <th>aug</th>\n",
              "      <th>dec</th>\n",
              "      <th>feb</th>\n",
              "      <th>jan</th>\n",
              "      <th>jul</th>\n",
              "      <th>jun</th>\n",
              "      <th>mar</th>\n",
              "      <th>may</th>\n",
              "      <th>nov</th>\n",
              "      <th>oct</th>\n",
              "      <th>sep</th>\n",
              "      <th>h_no</th>\n",
              "      <th>h_yes</th>\n",
              "      <th>fri</th>\n",
              "      <th>mon</th>\n",
              "      <th>sat</th>\n",
              "      <th>sun</th>\n",
              "      <th>thu</th>\n",
              "      <th>tue</th>\n",
              "      <th>wed</th>\n",
              "      <th>wor_no</th>\n",
              "      <th>wor_yes</th>\n",
              "      <th>weth_1</th>\n",
              "      <th>weth_2</th>\n",
              "      <th>weth_3</th>\n",
              "      <th>temp</th>\n",
              "      <th>atemp</th>\n",
              "      <th>hum</th>\n",
              "      <th>windspeed</th>\n",
              "    </tr>\n",
              "  </thead>\n",
              "  <tbody>\n",
              "    <tr>\n",
              "      <th>0</th>\n",
              "      <td>0.0</td>\n",
              "      <td>0.0</td>\n",
              "      <td>0.0</td>\n",
              "      <td>1.0</td>\n",
              "      <td>0.0</td>\n",
              "      <td>1.0</td>\n",
              "      <td>0.0</td>\n",
              "      <td>0.0</td>\n",
              "      <td>0.0</td>\n",
              "      <td>0.0</td>\n",
              "      <td>0.0</td>\n",
              "      <td>0.0</td>\n",
              "      <td>0.0</td>\n",
              "      <td>0.0</td>\n",
              "      <td>0.0</td>\n",
              "      <td>1.0</td>\n",
              "      <td>0.0</td>\n",
              "      <td>0.0</td>\n",
              "      <td>0.0</td>\n",
              "      <td>1.0</td>\n",
              "      <td>1.0</td>\n",
              "      <td>0.0</td>\n",
              "      <td>0.0</td>\n",
              "      <td>0.0</td>\n",
              "      <td>0.0</td>\n",
              "      <td>0.0</td>\n",
              "      <td>0.0</td>\n",
              "      <td>0.0</td>\n",
              "      <td>1.0</td>\n",
              "      <td>0.0</td>\n",
              "      <td>1.0</td>\n",
              "      <td>0.0</td>\n",
              "      <td>0.327133</td>\n",
              "      <td>0.322150</td>\n",
              "      <td>0.511344</td>\n",
              "      <td>0.327101</td>\n",
              "    </tr>\n",
              "    <tr>\n",
              "      <th>1</th>\n",
              "      <td>0.0</td>\n",
              "      <td>0.0</td>\n",
              "      <td>0.0</td>\n",
              "      <td>1.0</td>\n",
              "      <td>0.0</td>\n",
              "      <td>1.0</td>\n",
              "      <td>0.0</td>\n",
              "      <td>0.0</td>\n",
              "      <td>0.0</td>\n",
              "      <td>0.0</td>\n",
              "      <td>0.0</td>\n",
              "      <td>0.0</td>\n",
              "      <td>0.0</td>\n",
              "      <td>0.0</td>\n",
              "      <td>0.0</td>\n",
              "      <td>0.0</td>\n",
              "      <td>1.0</td>\n",
              "      <td>0.0</td>\n",
              "      <td>1.0</td>\n",
              "      <td>0.0</td>\n",
              "      <td>0.0</td>\n",
              "      <td>0.0</td>\n",
              "      <td>0.0</td>\n",
              "      <td>0.0</td>\n",
              "      <td>0.0</td>\n",
              "      <td>1.0</td>\n",
              "      <td>0.0</td>\n",
              "      <td>1.0</td>\n",
              "      <td>0.0</td>\n",
              "      <td>0.0</td>\n",
              "      <td>1.0</td>\n",
              "      <td>0.0</td>\n",
              "      <td>0.403972</td>\n",
              "      <td>0.404998</td>\n",
              "      <td>0.635834</td>\n",
              "      <td>0.419004</td>\n",
              "    </tr>\n",
              "    <tr>\n",
              "      <th>2</th>\n",
              "      <td>0.0</td>\n",
              "      <td>0.0</td>\n",
              "      <td>1.0</td>\n",
              "      <td>0.0</td>\n",
              "      <td>1.0</td>\n",
              "      <td>0.0</td>\n",
              "      <td>0.0</td>\n",
              "      <td>0.0</td>\n",
              "      <td>0.0</td>\n",
              "      <td>0.0</td>\n",
              "      <td>0.0</td>\n",
              "      <td>0.0</td>\n",
              "      <td>1.0</td>\n",
              "      <td>0.0</td>\n",
              "      <td>0.0</td>\n",
              "      <td>0.0</td>\n",
              "      <td>0.0</td>\n",
              "      <td>0.0</td>\n",
              "      <td>0.0</td>\n",
              "      <td>1.0</td>\n",
              "      <td>0.0</td>\n",
              "      <td>0.0</td>\n",
              "      <td>0.0</td>\n",
              "      <td>0.0</td>\n",
              "      <td>1.0</td>\n",
              "      <td>0.0</td>\n",
              "      <td>0.0</td>\n",
              "      <td>0.0</td>\n",
              "      <td>1.0</td>\n",
              "      <td>1.0</td>\n",
              "      <td>0.0</td>\n",
              "      <td>0.0</td>\n",
              "      <td>0.679142</td>\n",
              "      <td>0.672694</td>\n",
              "      <td>0.353111</td>\n",
              "      <td>0.618387</td>\n",
              "    </tr>\n",
              "    <tr>\n",
              "      <th>3</th>\n",
              "      <td>0.0</td>\n",
              "      <td>1.0</td>\n",
              "      <td>0.0</td>\n",
              "      <td>0.0</td>\n",
              "      <td>1.0</td>\n",
              "      <td>0.0</td>\n",
              "      <td>0.0</td>\n",
              "      <td>0.0</td>\n",
              "      <td>1.0</td>\n",
              "      <td>0.0</td>\n",
              "      <td>0.0</td>\n",
              "      <td>0.0</td>\n",
              "      <td>0.0</td>\n",
              "      <td>0.0</td>\n",
              "      <td>0.0</td>\n",
              "      <td>0.0</td>\n",
              "      <td>0.0</td>\n",
              "      <td>0.0</td>\n",
              "      <td>0.0</td>\n",
              "      <td>1.0</td>\n",
              "      <td>1.0</td>\n",
              "      <td>0.0</td>\n",
              "      <td>0.0</td>\n",
              "      <td>0.0</td>\n",
              "      <td>0.0</td>\n",
              "      <td>0.0</td>\n",
              "      <td>0.0</td>\n",
              "      <td>0.0</td>\n",
              "      <td>1.0</td>\n",
              "      <td>1.0</td>\n",
              "      <td>0.0</td>\n",
              "      <td>0.0</td>\n",
              "      <td>0.299051</td>\n",
              "      <td>0.263714</td>\n",
              "      <td>0.348686</td>\n",
              "      <td>0.680198</td>\n",
              "    </tr>\n",
              "    <tr>\n",
              "      <th>4</th>\n",
              "      <td>0.0</td>\n",
              "      <td>0.0</td>\n",
              "      <td>0.0</td>\n",
              "      <td>1.0</td>\n",
              "      <td>0.0</td>\n",
              "      <td>1.0</td>\n",
              "      <td>0.0</td>\n",
              "      <td>0.0</td>\n",
              "      <td>0.0</td>\n",
              "      <td>0.0</td>\n",
              "      <td>0.0</td>\n",
              "      <td>0.0</td>\n",
              "      <td>0.0</td>\n",
              "      <td>0.0</td>\n",
              "      <td>0.0</td>\n",
              "      <td>0.0</td>\n",
              "      <td>1.0</td>\n",
              "      <td>0.0</td>\n",
              "      <td>0.0</td>\n",
              "      <td>1.0</td>\n",
              "      <td>0.0</td>\n",
              "      <td>0.0</td>\n",
              "      <td>0.0</td>\n",
              "      <td>0.0</td>\n",
              "      <td>1.0</td>\n",
              "      <td>0.0</td>\n",
              "      <td>0.0</td>\n",
              "      <td>0.0</td>\n",
              "      <td>1.0</td>\n",
              "      <td>0.0</td>\n",
              "      <td>1.0</td>\n",
              "      <td>0.0</td>\n",
              "      <td>0.745598</td>\n",
              "      <td>0.682653</td>\n",
              "      <td>0.753345</td>\n",
              "      <td>0.110593</td>\n",
              "    </tr>\n",
              "  </tbody>\n",
              "</table>\n",
              "</div>"
            ],
            "text/plain": [
              "   fall  spring  summer  winter  ...      temp     atemp       hum  windspeed\n",
              "0   0.0     0.0     0.0     1.0  ...  0.327133  0.322150  0.511344   0.327101\n",
              "1   0.0     0.0     0.0     1.0  ...  0.403972  0.404998  0.635834   0.419004\n",
              "2   0.0     0.0     1.0     0.0  ...  0.679142  0.672694  0.353111   0.618387\n",
              "3   0.0     1.0     0.0     0.0  ...  0.299051  0.263714  0.348686   0.680198\n",
              "4   0.0     0.0     0.0     1.0  ...  0.745598  0.682653  0.753345   0.110593\n",
              "\n",
              "[5 rows x 36 columns]"
            ]
          },
          "metadata": {
            "tags": []
          },
          "execution_count": 36
        }
      ]
    },
    {
      "cell_type": "code",
      "metadata": {
        "id": "NtY-ZGR-2ZnD"
      },
      "source": [
        "#target variable - y. scaling the target variable.\n",
        "target_scalar = MinMaxScaler()\n",
        "y_train = target_scalar.fit_transform(data_train.cnt.values.reshape(-1,1))"
      ],
      "execution_count": null,
      "outputs": []
    },
    {
      "cell_type": "markdown",
      "metadata": {
        "id": "nNsg-W7F2397"
      },
      "source": [
        "##### Creating LR Model #####"
      ]
    },
    {
      "cell_type": "markdown",
      "metadata": {
        "id": "JVJBLsUR33TH"
      },
      "source": [
        "we will do feature selection manually in bottom up approach."
      ]
    },
    {
      "cell_type": "code",
      "metadata": {
        "id": "tlHkoTTJ2MFv"
      },
      "source": [
        "import statsmodels.api as sm"
      ],
      "execution_count": null,
      "outputs": []
    },
    {
      "cell_type": "code",
      "metadata": {
        "colab": {
          "base_uri": "https://localhost:8080/"
        },
        "id": "W0B7jvqF3jtl",
        "outputId": "c3441f48-4824-476c-b727-42656e3326cc"
      },
      "source": [
        "#trying one variable - temp\n",
        "X_train_sm = X_train['temp']\n",
        "X_train_sm = sm.add_constant(X_train_sm) \n",
        "lr_model1 = sm.OLS(y_train, X_train_sm)\n",
        "result = lr_model1.fit()\n",
        "result.summary()\n",
        "\n",
        "# R2 is 39.5%\n",
        "# temp is significant as per p-value"
      ],
      "execution_count": null,
      "outputs": [
        {
          "output_type": "execute_result",
          "data": {
            "text/html": [
              "<table class=\"simpletable\">\n",
              "<caption>OLS Regression Results</caption>\n",
              "<tr>\n",
              "  <th>Dep. Variable:</th>            <td>y</td>        <th>  R-squared:         </th> <td>   0.395</td>\n",
              "</tr>\n",
              "<tr>\n",
              "  <th>Model:</th>                   <td>OLS</td>       <th>  Adj. R-squared:    </th> <td>   0.393</td>\n",
              "</tr>\n",
              "<tr>\n",
              "  <th>Method:</th>             <td>Least Squares</td>  <th>  F-statistic:       </th> <td>   331.2</td>\n",
              "</tr>\n",
              "<tr>\n",
              "  <th>Date:</th>             <td>Sat, 03 Apr 2021</td> <th>  Prob (F-statistic):</th> <td>2.38e-57</td>\n",
              "</tr>\n",
              "<tr>\n",
              "  <th>Time:</th>                 <td>06:39:58</td>     <th>  Log-Likelihood:    </th> <td>  143.64</td>\n",
              "</tr>\n",
              "<tr>\n",
              "  <th>No. Observations:</th>      <td>   510</td>      <th>  AIC:               </th> <td>  -283.3</td>\n",
              "</tr>\n",
              "<tr>\n",
              "  <th>Df Residuals:</th>          <td>   508</td>      <th>  BIC:               </th> <td>  -274.8</td>\n",
              "</tr>\n",
              "<tr>\n",
              "  <th>Df Model:</th>              <td>     1</td>      <th>                     </th>     <td> </td>   \n",
              "</tr>\n",
              "<tr>\n",
              "  <th>Covariance Type:</th>      <td>nonrobust</td>    <th>                     </th>     <td> </td>   \n",
              "</tr>\n",
              "</table>\n",
              "<table class=\"simpletable\">\n",
              "<tr>\n",
              "    <td></td>       <th>coef</th>     <th>std err</th>      <th>t</th>      <th>P>|t|</th>  <th>[0.025</th>    <th>0.975]</th>  \n",
              "</tr>\n",
              "<tr>\n",
              "  <th>const</th> <td>    0.1451</td> <td>    0.021</td> <td>    6.803</td> <td> 0.000</td> <td>    0.103</td> <td>    0.187</td>\n",
              "</tr>\n",
              "<tr>\n",
              "  <th>temp</th>  <td>    0.6505</td> <td>    0.036</td> <td>   18.199</td> <td> 0.000</td> <td>    0.580</td> <td>    0.721</td>\n",
              "</tr>\n",
              "</table>\n",
              "<table class=\"simpletable\">\n",
              "<tr>\n",
              "  <th>Omnibus:</th>       <td>13.598</td> <th>  Durbin-Watson:     </th> <td>   2.107</td>\n",
              "</tr>\n",
              "<tr>\n",
              "  <th>Prob(Omnibus):</th> <td> 0.001</td> <th>  Jarque-Bera (JB):  </th> <td>   8.487</td>\n",
              "</tr>\n",
              "<tr>\n",
              "  <th>Skew:</th>          <td> 0.160</td> <th>  Prob(JB):          </th> <td>  0.0144</td>\n",
              "</tr>\n",
              "<tr>\n",
              "  <th>Kurtosis:</th>      <td> 2.455</td> <th>  Cond. No.          </th> <td>    5.81</td>\n",
              "</tr>\n",
              "</table><br/><br/>Warnings:<br/>[1] Standard Errors assume that the covariance matrix of the errors is correctly specified."
            ],
            "text/plain": [
              "<class 'statsmodels.iolib.summary.Summary'>\n",
              "\"\"\"\n",
              "                            OLS Regression Results                            \n",
              "==============================================================================\n",
              "Dep. Variable:                      y   R-squared:                       0.395\n",
              "Model:                            OLS   Adj. R-squared:                  0.393\n",
              "Method:                 Least Squares   F-statistic:                     331.2\n",
              "Date:                Sat, 03 Apr 2021   Prob (F-statistic):           2.38e-57\n",
              "Time:                        06:39:58   Log-Likelihood:                 143.64\n",
              "No. Observations:                 510   AIC:                            -283.3\n",
              "Df Residuals:                     508   BIC:                            -274.8\n",
              "Df Model:                           1                                         \n",
              "Covariance Type:            nonrobust                                         \n",
              "==============================================================================\n",
              "                 coef    std err          t      P>|t|      [0.025      0.975]\n",
              "------------------------------------------------------------------------------\n",
              "const          0.1451      0.021      6.803      0.000       0.103       0.187\n",
              "temp           0.6505      0.036     18.199      0.000       0.580       0.721\n",
              "==============================================================================\n",
              "Omnibus:                       13.598   Durbin-Watson:                   2.107\n",
              "Prob(Omnibus):                  0.001   Jarque-Bera (JB):                8.487\n",
              "Skew:                           0.160   Prob(JB):                       0.0144\n",
              "Kurtosis:                       2.455   Cond. No.                         5.81\n",
              "==============================================================================\n",
              "\n",
              "Warnings:\n",
              "[1] Standard Errors assume that the covariance matrix of the errors is correctly specified.\n",
              "\"\"\""
            ]
          },
          "metadata": {
            "tags": []
          },
          "execution_count": 39
        }
      ]
    },
    {
      "cell_type": "code",
      "metadata": {
        "colab": {
          "base_uri": "https://localhost:8080/"
        },
        "id": "QAHg2NFp6yfI",
        "outputId": "52688e89-37e4-4f52-affd-be30f0c31f65"
      },
      "source": [
        "# trying two variable - temp, hum\n",
        "vars = ['temp', 'hum'] \n",
        "X_train_sm = X_train[vars]\n",
        "X_train_sm = sm.add_constant(X_train_sm) \n",
        "lr_model2 = sm.OLS(y_train, X_train_sm)\n",
        "result = lr_model2.fit()\n",
        "result.summary()\n",
        "\n",
        "# R2 is 42.9%\n",
        "# temp and humidity are significant as per p-value"
      ],
      "execution_count": null,
      "outputs": [
        {
          "output_type": "execute_result",
          "data": {
            "text/html": [
              "<table class=\"simpletable\">\n",
              "<caption>OLS Regression Results</caption>\n",
              "<tr>\n",
              "  <th>Dep. Variable:</th>            <td>y</td>        <th>  R-squared:         </th> <td>   0.429</td>\n",
              "</tr>\n",
              "<tr>\n",
              "  <th>Model:</th>                   <td>OLS</td>       <th>  Adj. R-squared:    </th> <td>   0.427</td>\n",
              "</tr>\n",
              "<tr>\n",
              "  <th>Method:</th>             <td>Least Squares</td>  <th>  F-statistic:       </th> <td>   190.8</td>\n",
              "</tr>\n",
              "<tr>\n",
              "  <th>Date:</th>             <td>Sat, 03 Apr 2021</td> <th>  Prob (F-statistic):</th> <td>1.66e-62</td>\n",
              "</tr>\n",
              "<tr>\n",
              "  <th>Time:</th>                 <td>06:39:58</td>     <th>  Log-Likelihood:    </th> <td>  158.74</td>\n",
              "</tr>\n",
              "<tr>\n",
              "  <th>No. Observations:</th>      <td>   510</td>      <th>  AIC:               </th> <td>  -311.5</td>\n",
              "</tr>\n",
              "<tr>\n",
              "  <th>Df Residuals:</th>          <td>   507</td>      <th>  BIC:               </th> <td>  -298.8</td>\n",
              "</tr>\n",
              "<tr>\n",
              "  <th>Df Model:</th>              <td>     2</td>      <th>                     </th>     <td> </td>   \n",
              "</tr>\n",
              "<tr>\n",
              "  <th>Covariance Type:</th>      <td>nonrobust</td>    <th>                     </th>     <td> </td>   \n",
              "</tr>\n",
              "</table>\n",
              "<table class=\"simpletable\">\n",
              "<tr>\n",
              "    <td></td>       <th>coef</th>     <th>std err</th>      <th>t</th>      <th>P>|t|</th>  <th>[0.025</th>    <th>0.975]</th>  \n",
              "</tr>\n",
              "<tr>\n",
              "  <th>const</th> <td>    0.2521</td> <td>    0.028</td> <td>    8.913</td> <td> 0.000</td> <td>    0.197</td> <td>    0.308</td>\n",
              "</tr>\n",
              "<tr>\n",
              "  <th>temp</th>  <td>    0.6753</td> <td>    0.035</td> <td>   19.282</td> <td> 0.000</td> <td>    0.606</td> <td>    0.744</td>\n",
              "</tr>\n",
              "<tr>\n",
              "  <th>hum</th>   <td>   -0.2278</td> <td>    0.041</td> <td>   -5.560</td> <td> 0.000</td> <td>   -0.308</td> <td>   -0.147</td>\n",
              "</tr>\n",
              "</table>\n",
              "<table class=\"simpletable\">\n",
              "<tr>\n",
              "  <th>Omnibus:</th>       <td>16.439</td> <th>  Durbin-Watson:     </th> <td>   2.122</td>\n",
              "</tr>\n",
              "<tr>\n",
              "  <th>Prob(Omnibus):</th> <td> 0.000</td> <th>  Jarque-Bera (JB):  </th> <td>   9.913</td>\n",
              "</tr>\n",
              "<tr>\n",
              "  <th>Skew:</th>          <td> 0.181</td> <th>  Prob(JB):          </th> <td> 0.00704</td>\n",
              "</tr>\n",
              "<tr>\n",
              "  <th>Kurtosis:</th>      <td> 2.421</td> <th>  Cond. No.          </th> <td>    7.49</td>\n",
              "</tr>\n",
              "</table><br/><br/>Warnings:<br/>[1] Standard Errors assume that the covariance matrix of the errors is correctly specified."
            ],
            "text/plain": [
              "<class 'statsmodels.iolib.summary.Summary'>\n",
              "\"\"\"\n",
              "                            OLS Regression Results                            \n",
              "==============================================================================\n",
              "Dep. Variable:                      y   R-squared:                       0.429\n",
              "Model:                            OLS   Adj. R-squared:                  0.427\n",
              "Method:                 Least Squares   F-statistic:                     190.8\n",
              "Date:                Sat, 03 Apr 2021   Prob (F-statistic):           1.66e-62\n",
              "Time:                        06:39:58   Log-Likelihood:                 158.74\n",
              "No. Observations:                 510   AIC:                            -311.5\n",
              "Df Residuals:                     507   BIC:                            -298.8\n",
              "Df Model:                           2                                         \n",
              "Covariance Type:            nonrobust                                         \n",
              "==============================================================================\n",
              "                 coef    std err          t      P>|t|      [0.025      0.975]\n",
              "------------------------------------------------------------------------------\n",
              "const          0.2521      0.028      8.913      0.000       0.197       0.308\n",
              "temp           0.6753      0.035     19.282      0.000       0.606       0.744\n",
              "hum           -0.2278      0.041     -5.560      0.000      -0.308      -0.147\n",
              "==============================================================================\n",
              "Omnibus:                       16.439   Durbin-Watson:                   2.122\n",
              "Prob(Omnibus):                  0.000   Jarque-Bera (JB):                9.913\n",
              "Skew:                           0.181   Prob(JB):                      0.00704\n",
              "Kurtosis:                       2.421   Cond. No.                         7.49\n",
              "==============================================================================\n",
              "\n",
              "Warnings:\n",
              "[1] Standard Errors assume that the covariance matrix of the errors is correctly specified.\n",
              "\"\"\""
            ]
          },
          "metadata": {
            "tags": []
          },
          "execution_count": 40
        }
      ]
    },
    {
      "cell_type": "code",
      "metadata": {
        "colab": {
          "base_uri": "https://localhost:8080/"
        },
        "id": "zcFbOulA8laI",
        "outputId": "afe83e60-cc6d-4040-90e1-d1d2f8c250a1"
      },
      "source": [
        "# trying two variable - temp, windspeed\n",
        "vars = ['temp', 'windspeed'] \n",
        "X_train_sm = X_train[vars]\n",
        "X_train_sm = sm.add_constant(X_train_sm) \n",
        "lr_model3 = sm.OLS(y_train, X_train_sm)\n",
        "result = lr_model3.fit()\n",
        "result.summary()\n",
        "\n",
        "# R2 is 41.7%\n",
        "# temp and windspeed are significant as per p-value"
      ],
      "execution_count": null,
      "outputs": [
        {
          "output_type": "execute_result",
          "data": {
            "text/html": [
              "<table class=\"simpletable\">\n",
              "<caption>OLS Regression Results</caption>\n",
              "<tr>\n",
              "  <th>Dep. Variable:</th>            <td>y</td>        <th>  R-squared:         </th> <td>   0.417</td>\n",
              "</tr>\n",
              "<tr>\n",
              "  <th>Model:</th>                   <td>OLS</td>       <th>  Adj. R-squared:    </th> <td>   0.415</td>\n",
              "</tr>\n",
              "<tr>\n",
              "  <th>Method:</th>             <td>Least Squares</td>  <th>  F-statistic:       </th> <td>   181.2</td>\n",
              "</tr>\n",
              "<tr>\n",
              "  <th>Date:</th>             <td>Sat, 03 Apr 2021</td> <th>  Prob (F-statistic):</th> <td>4.20e-60</td>\n",
              "</tr>\n",
              "<tr>\n",
              "  <th>Time:</th>                 <td>06:39:58</td>     <th>  Log-Likelihood:    </th> <td>  153.17</td>\n",
              "</tr>\n",
              "<tr>\n",
              "  <th>No. Observations:</th>      <td>   510</td>      <th>  AIC:               </th> <td>  -300.3</td>\n",
              "</tr>\n",
              "<tr>\n",
              "  <th>Df Residuals:</th>          <td>   507</td>      <th>  BIC:               </th> <td>  -287.6</td>\n",
              "</tr>\n",
              "<tr>\n",
              "  <th>Df Model:</th>              <td>     2</td>      <th>                     </th>     <td> </td>   \n",
              "</tr>\n",
              "<tr>\n",
              "  <th>Covariance Type:</th>      <td>nonrobust</td>    <th>                     </th>     <td> </td>   \n",
              "</tr>\n",
              "</table>\n",
              "<table class=\"simpletable\">\n",
              "<tr>\n",
              "      <td></td>         <th>coef</th>     <th>std err</th>      <th>t</th>      <th>P>|t|</th>  <th>[0.025</th>    <th>0.975]</th>  \n",
              "</tr>\n",
              "<tr>\n",
              "  <th>const</th>     <td>    0.2362</td> <td>    0.029</td> <td>    8.011</td> <td> 0.000</td> <td>    0.178</td> <td>    0.294</td>\n",
              "</tr>\n",
              "<tr>\n",
              "  <th>temp</th>      <td>    0.6267</td> <td>    0.036</td> <td>   17.633</td> <td> 0.000</td> <td>    0.557</td> <td>    0.696</td>\n",
              "</tr>\n",
              "<tr>\n",
              "  <th>windspeed</th> <td>   -0.1882</td> <td>    0.043</td> <td>   -4.393</td> <td> 0.000</td> <td>   -0.272</td> <td>   -0.104</td>\n",
              "</tr>\n",
              "</table>\n",
              "<table class=\"simpletable\">\n",
              "<tr>\n",
              "  <th>Omnibus:</th>       <td>18.370</td> <th>  Durbin-Watson:     </th> <td>   2.080</td>\n",
              "</tr>\n",
              "<tr>\n",
              "  <th>Prob(Omnibus):</th> <td> 0.000</td> <th>  Jarque-Bera (JB):  </th> <td>  11.233</td>\n",
              "</tr>\n",
              "<tr>\n",
              "  <th>Skew:</th>          <td> 0.211</td> <th>  Prob(JB):          </th> <td> 0.00364</td>\n",
              "</tr>\n",
              "<tr>\n",
              "  <th>Kurtosis:</th>      <td> 2.408</td> <th>  Cond. No.          </th> <td>    7.90</td>\n",
              "</tr>\n",
              "</table><br/><br/>Warnings:<br/>[1] Standard Errors assume that the covariance matrix of the errors is correctly specified."
            ],
            "text/plain": [
              "<class 'statsmodels.iolib.summary.Summary'>\n",
              "\"\"\"\n",
              "                            OLS Regression Results                            \n",
              "==============================================================================\n",
              "Dep. Variable:                      y   R-squared:                       0.417\n",
              "Model:                            OLS   Adj. R-squared:                  0.415\n",
              "Method:                 Least Squares   F-statistic:                     181.2\n",
              "Date:                Sat, 03 Apr 2021   Prob (F-statistic):           4.20e-60\n",
              "Time:                        06:39:58   Log-Likelihood:                 153.17\n",
              "No. Observations:                 510   AIC:                            -300.3\n",
              "Df Residuals:                     507   BIC:                            -287.6\n",
              "Df Model:                           2                                         \n",
              "Covariance Type:            nonrobust                                         \n",
              "==============================================================================\n",
              "                 coef    std err          t      P>|t|      [0.025      0.975]\n",
              "------------------------------------------------------------------------------\n",
              "const          0.2362      0.029      8.011      0.000       0.178       0.294\n",
              "temp           0.6267      0.036     17.633      0.000       0.557       0.696\n",
              "windspeed     -0.1882      0.043     -4.393      0.000      -0.272      -0.104\n",
              "==============================================================================\n",
              "Omnibus:                       18.370   Durbin-Watson:                   2.080\n",
              "Prob(Omnibus):                  0.000   Jarque-Bera (JB):               11.233\n",
              "Skew:                           0.211   Prob(JB):                      0.00364\n",
              "Kurtosis:                       2.408   Cond. No.                         7.90\n",
              "==============================================================================\n",
              "\n",
              "Warnings:\n",
              "[1] Standard Errors assume that the covariance matrix of the errors is correctly specified.\n",
              "\"\"\""
            ]
          },
          "metadata": {
            "tags": []
          },
          "execution_count": 41
        }
      ]
    },
    {
      "cell_type": "code",
      "metadata": {
        "colab": {
          "base_uri": "https://localhost:8080/"
        },
        "id": "bpob6SO480ic",
        "outputId": "ae8749ce-c0ed-403a-f407-bf17f7537ba6"
      },
      "source": [
        "# trying variables - temp, hum, weather \n",
        "vars = ['temp', 'hum', 'weth_2', 'weth_3'] \n",
        "X_train_sm = X_train[vars]\n",
        "X_train_sm = sm.add_constant(X_train_sm) \n",
        "lr_model4 = sm.OLS(y_train, X_train_sm)\n",
        "result = lr_model4.fit()\n",
        "result.summary()\n",
        "\n",
        "# R2 is 44.9%\n",
        "# temp, hum, wheather are significant as per p-value"
      ],
      "execution_count": null,
      "outputs": [
        {
          "output_type": "execute_result",
          "data": {
            "text/html": [
              "<table class=\"simpletable\">\n",
              "<caption>OLS Regression Results</caption>\n",
              "<tr>\n",
              "  <th>Dep. Variable:</th>            <td>y</td>        <th>  R-squared:         </th> <td>   0.449</td>\n",
              "</tr>\n",
              "<tr>\n",
              "  <th>Model:</th>                   <td>OLS</td>       <th>  Adj. R-squared:    </th> <td>   0.445</td>\n",
              "</tr>\n",
              "<tr>\n",
              "  <th>Method:</th>             <td>Least Squares</td>  <th>  F-statistic:       </th> <td>   102.8</td>\n",
              "</tr>\n",
              "<tr>\n",
              "  <th>Date:</th>             <td>Sat, 03 Apr 2021</td> <th>  Prob (F-statistic):</th> <td>5.20e-64</td>\n",
              "</tr>\n",
              "<tr>\n",
              "  <th>Time:</th>                 <td>06:39:58</td>     <th>  Log-Likelihood:    </th> <td>  167.58</td>\n",
              "</tr>\n",
              "<tr>\n",
              "  <th>No. Observations:</th>      <td>   510</td>      <th>  AIC:               </th> <td>  -325.2</td>\n",
              "</tr>\n",
              "<tr>\n",
              "  <th>Df Residuals:</th>          <td>   505</td>      <th>  BIC:               </th> <td>  -304.0</td>\n",
              "</tr>\n",
              "<tr>\n",
              "  <th>Df Model:</th>              <td>     4</td>      <th>                     </th>     <td> </td>   \n",
              "</tr>\n",
              "<tr>\n",
              "  <th>Covariance Type:</th>      <td>nonrobust</td>    <th>                     </th>     <td> </td>   \n",
              "</tr>\n",
              "</table>\n",
              "<table class=\"simpletable\">\n",
              "<tr>\n",
              "     <td></td>       <th>coef</th>     <th>std err</th>      <th>t</th>      <th>P>|t|</th>  <th>[0.025</th>    <th>0.975]</th>  \n",
              "</tr>\n",
              "<tr>\n",
              "  <th>const</th>  <td>    0.2297</td> <td>    0.029</td> <td>    8.041</td> <td> 0.000</td> <td>    0.174</td> <td>    0.286</td>\n",
              "</tr>\n",
              "<tr>\n",
              "  <th>temp</th>   <td>    0.6504</td> <td>    0.035</td> <td>   18.376</td> <td> 0.000</td> <td>    0.581</td> <td>    0.720</td>\n",
              "</tr>\n",
              "<tr>\n",
              "  <th>hum</th>    <td>   -0.1278</td> <td>    0.053</td> <td>   -2.426</td> <td> 0.016</td> <td>   -0.231</td> <td>   -0.024</td>\n",
              "</tr>\n",
              "<tr>\n",
              "  <th>weth_2</th> <td>   -0.0330</td> <td>    0.021</td> <td>   -1.605</td> <td> 0.109</td> <td>   -0.073</td> <td>    0.007</td>\n",
              "</tr>\n",
              "<tr>\n",
              "  <th>weth_3</th> <td>   -0.2409</td> <td>    0.057</td> <td>   -4.219</td> <td> 0.000</td> <td>   -0.353</td> <td>   -0.129</td>\n",
              "</tr>\n",
              "</table>\n",
              "<table class=\"simpletable\">\n",
              "<tr>\n",
              "  <th>Omnibus:</th>       <td>16.666</td> <th>  Durbin-Watson:     </th> <td>   2.139</td>\n",
              "</tr>\n",
              "<tr>\n",
              "  <th>Prob(Omnibus):</th> <td> 0.000</td> <th>  Jarque-Bera (JB):  </th> <td>  10.206</td>\n",
              "</tr>\n",
              "<tr>\n",
              "  <th>Skew:</th>          <td> 0.191</td> <th>  Prob(JB):          </th> <td> 0.00608</td>\n",
              "</tr>\n",
              "<tr>\n",
              "  <th>Kurtosis:</th>      <td> 2.422</td> <th>  Cond. No.          </th> <td>    11.7</td>\n",
              "</tr>\n",
              "</table><br/><br/>Warnings:<br/>[1] Standard Errors assume that the covariance matrix of the errors is correctly specified."
            ],
            "text/plain": [
              "<class 'statsmodels.iolib.summary.Summary'>\n",
              "\"\"\"\n",
              "                            OLS Regression Results                            \n",
              "==============================================================================\n",
              "Dep. Variable:                      y   R-squared:                       0.449\n",
              "Model:                            OLS   Adj. R-squared:                  0.445\n",
              "Method:                 Least Squares   F-statistic:                     102.8\n",
              "Date:                Sat, 03 Apr 2021   Prob (F-statistic):           5.20e-64\n",
              "Time:                        06:39:58   Log-Likelihood:                 167.58\n",
              "No. Observations:                 510   AIC:                            -325.2\n",
              "Df Residuals:                     505   BIC:                            -304.0\n",
              "Df Model:                           4                                         \n",
              "Covariance Type:            nonrobust                                         \n",
              "==============================================================================\n",
              "                 coef    std err          t      P>|t|      [0.025      0.975]\n",
              "------------------------------------------------------------------------------\n",
              "const          0.2297      0.029      8.041      0.000       0.174       0.286\n",
              "temp           0.6504      0.035     18.376      0.000       0.581       0.720\n",
              "hum           -0.1278      0.053     -2.426      0.016      -0.231      -0.024\n",
              "weth_2        -0.0330      0.021     -1.605      0.109      -0.073       0.007\n",
              "weth_3        -0.2409      0.057     -4.219      0.000      -0.353      -0.129\n",
              "==============================================================================\n",
              "Omnibus:                       16.666   Durbin-Watson:                   2.139\n",
              "Prob(Omnibus):                  0.000   Jarque-Bera (JB):               10.206\n",
              "Skew:                           0.191   Prob(JB):                      0.00608\n",
              "Kurtosis:                       2.422   Cond. No.                         11.7\n",
              "==============================================================================\n",
              "\n",
              "Warnings:\n",
              "[1] Standard Errors assume that the covariance matrix of the errors is correctly specified.\n",
              "\"\"\""
            ]
          },
          "metadata": {
            "tags": []
          },
          "execution_count": 42
        }
      ]
    },
    {
      "cell_type": "code",
      "metadata": {
        "colab": {
          "base_uri": "https://localhost:8080/"
        },
        "id": "2egdKOxx9LM3",
        "outputId": "3052b498-cc84-440d-a707-46b879e7b4f9"
      },
      "source": [
        "# trying variables - temp, hum, weather, season\n",
        "vars = ['temp', 'hum', 'weth_2', 'weth_3', 'spring', 'summer', 'winter'] \n",
        "X_train_sm = X_train[vars]\n",
        "X_train_sm = sm.add_constant(X_train_sm) \n",
        "lr_model5 = sm.OLS(y_train, X_train_sm)\n",
        "result = lr_model5.fit()\n",
        "result.summary()\n",
        "\n",
        "# R2 is 53.8%\n",
        "# temp, humidity, wheather, season are significant as per p-value"
      ],
      "execution_count": null,
      "outputs": [
        {
          "output_type": "execute_result",
          "data": {
            "text/html": [
              "<table class=\"simpletable\">\n",
              "<caption>OLS Regression Results</caption>\n",
              "<tr>\n",
              "  <th>Dep. Variable:</th>            <td>y</td>        <th>  R-squared:         </th> <td>   0.538</td>\n",
              "</tr>\n",
              "<tr>\n",
              "  <th>Model:</th>                   <td>OLS</td>       <th>  Adj. R-squared:    </th> <td>   0.531</td>\n",
              "</tr>\n",
              "<tr>\n",
              "  <th>Method:</th>             <td>Least Squares</td>  <th>  F-statistic:       </th> <td>   83.40</td>\n",
              "</tr>\n",
              "<tr>\n",
              "  <th>Date:</th>             <td>Sat, 03 Apr 2021</td> <th>  Prob (F-statistic):</th> <td>5.26e-80</td>\n",
              "</tr>\n",
              "<tr>\n",
              "  <th>Time:</th>                 <td>06:39:58</td>     <th>  Log-Likelihood:    </th> <td>  212.36</td>\n",
              "</tr>\n",
              "<tr>\n",
              "  <th>No. Observations:</th>      <td>   510</td>      <th>  AIC:               </th> <td>  -408.7</td>\n",
              "</tr>\n",
              "<tr>\n",
              "  <th>Df Residuals:</th>          <td>   502</td>      <th>  BIC:               </th> <td>  -374.8</td>\n",
              "</tr>\n",
              "<tr>\n",
              "  <th>Df Model:</th>              <td>     7</td>      <th>                     </th>     <td> </td>   \n",
              "</tr>\n",
              "<tr>\n",
              "  <th>Covariance Type:</th>      <td>nonrobust</td>    <th>                     </th>     <td> </td>   \n",
              "</tr>\n",
              "</table>\n",
              "<table class=\"simpletable\">\n",
              "<tr>\n",
              "     <td></td>       <th>coef</th>     <th>std err</th>      <th>t</th>      <th>P>|t|</th>  <th>[0.025</th>    <th>0.975]</th>  \n",
              "</tr>\n",
              "<tr>\n",
              "  <th>const</th>  <td>    0.2816</td> <td>    0.050</td> <td>    5.627</td> <td> 0.000</td> <td>    0.183</td> <td>    0.380</td>\n",
              "</tr>\n",
              "<tr>\n",
              "  <th>temp</th>   <td>    0.5769</td> <td>    0.059</td> <td>    9.811</td> <td> 0.000</td> <td>    0.461</td> <td>    0.692</td>\n",
              "</tr>\n",
              "<tr>\n",
              "  <th>hum</th>    <td>   -0.1772</td> <td>    0.049</td> <td>   -3.602</td> <td> 0.000</td> <td>   -0.274</td> <td>   -0.081</td>\n",
              "</tr>\n",
              "<tr>\n",
              "  <th>weth_2</th> <td>   -0.0318</td> <td>    0.019</td> <td>   -1.680</td> <td> 0.094</td> <td>   -0.069</td> <td>    0.005</td>\n",
              "</tr>\n",
              "<tr>\n",
              "  <th>weth_3</th> <td>   -0.2537</td> <td>    0.053</td> <td>   -4.813</td> <td> 0.000</td> <td>   -0.357</td> <td>   -0.150</td>\n",
              "</tr>\n",
              "<tr>\n",
              "  <th>spring</th> <td>   -0.0948</td> <td>    0.036</td> <td>   -2.634</td> <td> 0.009</td> <td>   -0.165</td> <td>   -0.024</td>\n",
              "</tr>\n",
              "<tr>\n",
              "  <th>summer</th> <td>    0.0353</td> <td>    0.022</td> <td>    1.570</td> <td> 0.117</td> <td>   -0.009</td> <td>    0.079</td>\n",
              "</tr>\n",
              "<tr>\n",
              "  <th>winter</th> <td>    0.1117</td> <td>    0.028</td> <td>    3.964</td> <td> 0.000</td> <td>    0.056</td> <td>    0.167</td>\n",
              "</tr>\n",
              "</table>\n",
              "<table class=\"simpletable\">\n",
              "<tr>\n",
              "  <th>Omnibus:</th>       <td>11.905</td> <th>  Durbin-Watson:     </th> <td>   2.194</td>\n",
              "</tr>\n",
              "<tr>\n",
              "  <th>Prob(Omnibus):</th> <td> 0.003</td> <th>  Jarque-Bera (JB):  </th> <td>   7.428</td>\n",
              "</tr>\n",
              "<tr>\n",
              "  <th>Skew:</th>          <td> 0.133</td> <th>  Prob(JB):          </th> <td>  0.0244</td>\n",
              "</tr>\n",
              "<tr>\n",
              "  <th>Kurtosis:</th>      <td> 2.472</td> <th>  Cond. No.          </th> <td>    16.6</td>\n",
              "</tr>\n",
              "</table><br/><br/>Warnings:<br/>[1] Standard Errors assume that the covariance matrix of the errors is correctly specified."
            ],
            "text/plain": [
              "<class 'statsmodels.iolib.summary.Summary'>\n",
              "\"\"\"\n",
              "                            OLS Regression Results                            \n",
              "==============================================================================\n",
              "Dep. Variable:                      y   R-squared:                       0.538\n",
              "Model:                            OLS   Adj. R-squared:                  0.531\n",
              "Method:                 Least Squares   F-statistic:                     83.40\n",
              "Date:                Sat, 03 Apr 2021   Prob (F-statistic):           5.26e-80\n",
              "Time:                        06:39:58   Log-Likelihood:                 212.36\n",
              "No. Observations:                 510   AIC:                            -408.7\n",
              "Df Residuals:                     502   BIC:                            -374.8\n",
              "Df Model:                           7                                         \n",
              "Covariance Type:            nonrobust                                         \n",
              "==============================================================================\n",
              "                 coef    std err          t      P>|t|      [0.025      0.975]\n",
              "------------------------------------------------------------------------------\n",
              "const          0.2816      0.050      5.627      0.000       0.183       0.380\n",
              "temp           0.5769      0.059      9.811      0.000       0.461       0.692\n",
              "hum           -0.1772      0.049     -3.602      0.000      -0.274      -0.081\n",
              "weth_2        -0.0318      0.019     -1.680      0.094      -0.069       0.005\n",
              "weth_3        -0.2537      0.053     -4.813      0.000      -0.357      -0.150\n",
              "spring        -0.0948      0.036     -2.634      0.009      -0.165      -0.024\n",
              "summer         0.0353      0.022      1.570      0.117      -0.009       0.079\n",
              "winter         0.1117      0.028      3.964      0.000       0.056       0.167\n",
              "==============================================================================\n",
              "Omnibus:                       11.905   Durbin-Watson:                   2.194\n",
              "Prob(Omnibus):                  0.003   Jarque-Bera (JB):                7.428\n",
              "Skew:                           0.133   Prob(JB):                       0.0244\n",
              "Kurtosis:                       2.472   Cond. No.                         16.6\n",
              "==============================================================================\n",
              "\n",
              "Warnings:\n",
              "[1] Standard Errors assume that the covariance matrix of the errors is correctly specified.\n",
              "\"\"\""
            ]
          },
          "metadata": {
            "tags": []
          },
          "execution_count": 43
        }
      ]
    },
    {
      "cell_type": "code",
      "metadata": {
        "colab": {
          "base_uri": "https://localhost:8080/"
        },
        "id": "MQW0w6Zn9ol-",
        "outputId": "e13d1120-0b83-40a7-899c-1a10e47eaea7"
      },
      "source": [
        "# trying variables - temp, hum, weather, season, year\n",
        "vars = ['temp', 'hum', 'weth_2', 'weth_3', 'spring', 'summer', 'winter', 'year_2019'] \n",
        "X_train_sm = X_train[vars]\n",
        "X_train_sm = sm.add_constant(X_train_sm) \n",
        "lr_model6 = sm.OLS(y_train, X_train_sm)\n",
        "result = lr_model6.fit()\n",
        "result.summary()\n",
        "\n",
        "# R2 is 80.1%\n",
        "# temp, humidity, wheather, season, year are significant as per p-value"
      ],
      "execution_count": null,
      "outputs": [
        {
          "output_type": "execute_result",
          "data": {
            "text/html": [
              "<table class=\"simpletable\">\n",
              "<caption>OLS Regression Results</caption>\n",
              "<tr>\n",
              "  <th>Dep. Variable:</th>            <td>y</td>        <th>  R-squared:         </th> <td>   0.801</td> \n",
              "</tr>\n",
              "<tr>\n",
              "  <th>Model:</th>                   <td>OLS</td>       <th>  Adj. R-squared:    </th> <td>   0.797</td> \n",
              "</tr>\n",
              "<tr>\n",
              "  <th>Method:</th>             <td>Least Squares</td>  <th>  F-statistic:       </th> <td>   251.6</td> \n",
              "</tr>\n",
              "<tr>\n",
              "  <th>Date:</th>             <td>Sat, 03 Apr 2021</td> <th>  Prob (F-statistic):</th> <td>4.83e-170</td>\n",
              "</tr>\n",
              "<tr>\n",
              "  <th>Time:</th>                 <td>06:39:58</td>     <th>  Log-Likelihood:    </th> <td>  426.90</td> \n",
              "</tr>\n",
              "<tr>\n",
              "  <th>No. Observations:</th>      <td>   510</td>      <th>  AIC:               </th> <td>  -835.8</td> \n",
              "</tr>\n",
              "<tr>\n",
              "  <th>Df Residuals:</th>          <td>   501</td>      <th>  BIC:               </th> <td>  -797.7</td> \n",
              "</tr>\n",
              "<tr>\n",
              "  <th>Df Model:</th>              <td>     8</td>      <th>                     </th>     <td> </td>    \n",
              "</tr>\n",
              "<tr>\n",
              "  <th>Covariance Type:</th>      <td>nonrobust</td>    <th>                     </th>     <td> </td>    \n",
              "</tr>\n",
              "</table>\n",
              "<table class=\"simpletable\">\n",
              "<tr>\n",
              "      <td></td>         <th>coef</th>     <th>std err</th>      <th>t</th>      <th>P>|t|</th>  <th>[0.025</th>    <th>0.975]</th>  \n",
              "</tr>\n",
              "<tr>\n",
              "  <th>const</th>     <td>    0.1551</td> <td>    0.033</td> <td>    4.663</td> <td> 0.000</td> <td>    0.090</td> <td>    0.220</td>\n",
              "</tr>\n",
              "<tr>\n",
              "  <th>temp</th>      <td>    0.5086</td> <td>    0.039</td> <td>   13.129</td> <td> 0.000</td> <td>    0.432</td> <td>    0.585</td>\n",
              "</tr>\n",
              "<tr>\n",
              "  <th>hum</th>       <td>   -0.0641</td> <td>    0.033</td> <td>   -1.964</td> <td> 0.050</td> <td>   -0.128</td> <td> 2.75e-05</td>\n",
              "</tr>\n",
              "<tr>\n",
              "  <th>weth_2</th>    <td>   -0.0598</td> <td>    0.013</td> <td>   -4.782</td> <td> 0.000</td> <td>   -0.084</td> <td>   -0.035</td>\n",
              "</tr>\n",
              "<tr>\n",
              "  <th>weth_3</th>    <td>   -0.2610</td> <td>    0.035</td> <td>   -7.532</td> <td> 0.000</td> <td>   -0.329</td> <td>   -0.193</td>\n",
              "</tr>\n",
              "<tr>\n",
              "  <th>spring</th>    <td>   -0.1180</td> <td>    0.024</td> <td>   -4.987</td> <td> 0.000</td> <td>   -0.165</td> <td>   -0.072</td>\n",
              "</tr>\n",
              "<tr>\n",
              "  <th>summer</th>    <td>    0.0317</td> <td>    0.015</td> <td>    2.146</td> <td> 0.032</td> <td>    0.003</td> <td>    0.061</td>\n",
              "</tr>\n",
              "<tr>\n",
              "  <th>winter</th>    <td>    0.0837</td> <td>    0.019</td> <td>    4.513</td> <td> 0.000</td> <td>    0.047</td> <td>    0.120</td>\n",
              "</tr>\n",
              "<tr>\n",
              "  <th>year_2019</th> <td>    0.2439</td> <td>    0.009</td> <td>   25.711</td> <td> 0.000</td> <td>    0.225</td> <td>    0.263</td>\n",
              "</tr>\n",
              "</table>\n",
              "<table class=\"simpletable\">\n",
              "<tr>\n",
              "  <th>Omnibus:</th>       <td>59.452</td> <th>  Durbin-Watson:     </th> <td>   2.130</td>\n",
              "</tr>\n",
              "<tr>\n",
              "  <th>Prob(Omnibus):</th> <td> 0.000</td> <th>  Jarque-Bera (JB):  </th> <td> 130.429</td>\n",
              "</tr>\n",
              "<tr>\n",
              "  <th>Skew:</th>          <td>-0.643</td> <th>  Prob(JB):          </th> <td>4.76e-29</td>\n",
              "</tr>\n",
              "<tr>\n",
              "  <th>Kurtosis:</th>      <td> 5.118</td> <th>  Cond. No.          </th> <td>    17.8</td>\n",
              "</tr>\n",
              "</table><br/><br/>Warnings:<br/>[1] Standard Errors assume that the covariance matrix of the errors is correctly specified."
            ],
            "text/plain": [
              "<class 'statsmodels.iolib.summary.Summary'>\n",
              "\"\"\"\n",
              "                            OLS Regression Results                            \n",
              "==============================================================================\n",
              "Dep. Variable:                      y   R-squared:                       0.801\n",
              "Model:                            OLS   Adj. R-squared:                  0.797\n",
              "Method:                 Least Squares   F-statistic:                     251.6\n",
              "Date:                Sat, 03 Apr 2021   Prob (F-statistic):          4.83e-170\n",
              "Time:                        06:39:58   Log-Likelihood:                 426.90\n",
              "No. Observations:                 510   AIC:                            -835.8\n",
              "Df Residuals:                     501   BIC:                            -797.7\n",
              "Df Model:                           8                                         \n",
              "Covariance Type:            nonrobust                                         \n",
              "==============================================================================\n",
              "                 coef    std err          t      P>|t|      [0.025      0.975]\n",
              "------------------------------------------------------------------------------\n",
              "const          0.1551      0.033      4.663      0.000       0.090       0.220\n",
              "temp           0.5086      0.039     13.129      0.000       0.432       0.585\n",
              "hum           -0.0641      0.033     -1.964      0.050      -0.128    2.75e-05\n",
              "weth_2        -0.0598      0.013     -4.782      0.000      -0.084      -0.035\n",
              "weth_3        -0.2610      0.035     -7.532      0.000      -0.329      -0.193\n",
              "spring        -0.1180      0.024     -4.987      0.000      -0.165      -0.072\n",
              "summer         0.0317      0.015      2.146      0.032       0.003       0.061\n",
              "winter         0.0837      0.019      4.513      0.000       0.047       0.120\n",
              "year_2019      0.2439      0.009     25.711      0.000       0.225       0.263\n",
              "==============================================================================\n",
              "Omnibus:                       59.452   Durbin-Watson:                   2.130\n",
              "Prob(Omnibus):                  0.000   Jarque-Bera (JB):              130.429\n",
              "Skew:                          -0.643   Prob(JB):                     4.76e-29\n",
              "Kurtosis:                       5.118   Cond. No.                         17.8\n",
              "==============================================================================\n",
              "\n",
              "Warnings:\n",
              "[1] Standard Errors assume that the covariance matrix of the errors is correctly specified.\n",
              "\"\"\""
            ]
          },
          "metadata": {
            "tags": []
          },
          "execution_count": 44
        }
      ]
    },
    {
      "cell_type": "code",
      "metadata": {
        "colab": {
          "base_uri": "https://localhost:8080/"
        },
        "id": "nKXeZrxn-sGo",
        "outputId": "57c399d8-bc14-4568-a2a3-03e69dbc8294"
      },
      "source": [
        "# trying variables - temp, hum, weather, season, year, windspeed\n",
        "vars = ['temp', 'hum', 'weth_2', 'weth_3', 'spring', 'summer', 'winter', 'year_2019', 'windspeed'] \n",
        "X_train_sm = X_train[vars]\n",
        "X_train_sm = sm.add_constant(X_train_sm) \n",
        "lr_model7 = sm.OLS(y_train, X_train_sm)\n",
        "result = lr_model7.fit()\n",
        "result.summary()\n",
        "\n",
        "# R2 is 81.3%\n",
        "# temp, humidity, wheather, season, year, windspeed are significant as per p-value"
      ],
      "execution_count": null,
      "outputs": [
        {
          "output_type": "execute_result",
          "data": {
            "text/html": [
              "<table class=\"simpletable\">\n",
              "<caption>OLS Regression Results</caption>\n",
              "<tr>\n",
              "  <th>Dep. Variable:</th>            <td>y</td>        <th>  R-squared:         </th> <td>   0.813</td> \n",
              "</tr>\n",
              "<tr>\n",
              "  <th>Model:</th>                   <td>OLS</td>       <th>  Adj. R-squared:    </th> <td>   0.810</td> \n",
              "</tr>\n",
              "<tr>\n",
              "  <th>Method:</th>             <td>Least Squares</td>  <th>  F-statistic:       </th> <td>   242.0</td> \n",
              "</tr>\n",
              "<tr>\n",
              "  <th>Date:</th>             <td>Sat, 03 Apr 2021</td> <th>  Prob (F-statistic):</th> <td>6.67e-176</td>\n",
              "</tr>\n",
              "<tr>\n",
              "  <th>Time:</th>                 <td>06:39:58</td>     <th>  Log-Likelihood:    </th> <td>  443.57</td> \n",
              "</tr>\n",
              "<tr>\n",
              "  <th>No. Observations:</th>      <td>   510</td>      <th>  AIC:               </th> <td>  -867.1</td> \n",
              "</tr>\n",
              "<tr>\n",
              "  <th>Df Residuals:</th>          <td>   500</td>      <th>  BIC:               </th> <td>  -824.8</td> \n",
              "</tr>\n",
              "<tr>\n",
              "  <th>Df Model:</th>              <td>     9</td>      <th>                     </th>     <td> </td>    \n",
              "</tr>\n",
              "<tr>\n",
              "  <th>Covariance Type:</th>      <td>nonrobust</td>    <th>                     </th>     <td> </td>    \n",
              "</tr>\n",
              "</table>\n",
              "<table class=\"simpletable\">\n",
              "<tr>\n",
              "      <td></td>         <th>coef</th>     <th>std err</th>      <th>t</th>      <th>P>|t|</th>  <th>[0.025</th>    <th>0.975]</th>  \n",
              "</tr>\n",
              "<tr>\n",
              "  <th>const</th>     <td>    0.2510</td> <td>    0.036</td> <td>    6.933</td> <td> 0.000</td> <td>    0.180</td> <td>    0.322</td>\n",
              "</tr>\n",
              "<tr>\n",
              "  <th>temp</th>      <td>    0.4962</td> <td>    0.038</td> <td>   13.202</td> <td> 0.000</td> <td>    0.422</td> <td>    0.570</td>\n",
              "</tr>\n",
              "<tr>\n",
              "  <th>hum</th>       <td>   -0.1216</td> <td>    0.033</td> <td>   -3.671</td> <td> 0.000</td> <td>   -0.187</td> <td>   -0.057</td>\n",
              "</tr>\n",
              "<tr>\n",
              "  <th>weth_2</th>    <td>   -0.0452</td> <td>    0.012</td> <td>   -3.656</td> <td> 0.000</td> <td>   -0.070</td> <td>   -0.021</td>\n",
              "</tr>\n",
              "<tr>\n",
              "  <th>weth_3</th>    <td>   -0.2166</td> <td>    0.034</td> <td>   -6.293</td> <td> 0.000</td> <td>   -0.284</td> <td>   -0.149</td>\n",
              "</tr>\n",
              "<tr>\n",
              "  <th>spring</th>    <td>   -0.1168</td> <td>    0.023</td> <td>   -5.096</td> <td> 0.000</td> <td>   -0.162</td> <td>   -0.072</td>\n",
              "</tr>\n",
              "<tr>\n",
              "  <th>summer</th>    <td>    0.0372</td> <td>    0.014</td> <td>    2.595</td> <td> 0.010</td> <td>    0.009</td> <td>    0.065</td>\n",
              "</tr>\n",
              "<tr>\n",
              "  <th>winter</th>    <td>    0.0771</td> <td>    0.018</td> <td>    4.280</td> <td> 0.000</td> <td>    0.042</td> <td>    0.112</td>\n",
              "</tr>\n",
              "<tr>\n",
              "  <th>year_2019</th> <td>    0.2409</td> <td>    0.009</td> <td>   26.179</td> <td> 0.000</td> <td>    0.223</td> <td>    0.259</td>\n",
              "</tr>\n",
              "<tr>\n",
              "  <th>windspeed</th> <td>   -0.1524</td> <td>    0.026</td> <td>   -5.812</td> <td> 0.000</td> <td>   -0.204</td> <td>   -0.101</td>\n",
              "</tr>\n",
              "</table>\n",
              "<table class=\"simpletable\">\n",
              "<tr>\n",
              "  <th>Omnibus:</th>       <td>69.905</td> <th>  Durbin-Watson:     </th> <td>   2.127</td>\n",
              "</tr>\n",
              "<tr>\n",
              "  <th>Prob(Omnibus):</th> <td> 0.000</td> <th>  Jarque-Bera (JB):  </th> <td> 174.858</td>\n",
              "</tr>\n",
              "<tr>\n",
              "  <th>Skew:</th>          <td>-0.702</td> <th>  Prob(JB):          </th> <td>1.07e-38</td>\n",
              "</tr>\n",
              "<tr>\n",
              "  <th>Kurtosis:</th>      <td> 5.502</td> <th>  Cond. No.          </th> <td>    18.9</td>\n",
              "</tr>\n",
              "</table><br/><br/>Warnings:<br/>[1] Standard Errors assume that the covariance matrix of the errors is correctly specified."
            ],
            "text/plain": [
              "<class 'statsmodels.iolib.summary.Summary'>\n",
              "\"\"\"\n",
              "                            OLS Regression Results                            \n",
              "==============================================================================\n",
              "Dep. Variable:                      y   R-squared:                       0.813\n",
              "Model:                            OLS   Adj. R-squared:                  0.810\n",
              "Method:                 Least Squares   F-statistic:                     242.0\n",
              "Date:                Sat, 03 Apr 2021   Prob (F-statistic):          6.67e-176\n",
              "Time:                        06:39:58   Log-Likelihood:                 443.57\n",
              "No. Observations:                 510   AIC:                            -867.1\n",
              "Df Residuals:                     500   BIC:                            -824.8\n",
              "Df Model:                           9                                         \n",
              "Covariance Type:            nonrobust                                         \n",
              "==============================================================================\n",
              "                 coef    std err          t      P>|t|      [0.025      0.975]\n",
              "------------------------------------------------------------------------------\n",
              "const          0.2510      0.036      6.933      0.000       0.180       0.322\n",
              "temp           0.4962      0.038     13.202      0.000       0.422       0.570\n",
              "hum           -0.1216      0.033     -3.671      0.000      -0.187      -0.057\n",
              "weth_2        -0.0452      0.012     -3.656      0.000      -0.070      -0.021\n",
              "weth_3        -0.2166      0.034     -6.293      0.000      -0.284      -0.149\n",
              "spring        -0.1168      0.023     -5.096      0.000      -0.162      -0.072\n",
              "summer         0.0372      0.014      2.595      0.010       0.009       0.065\n",
              "winter         0.0771      0.018      4.280      0.000       0.042       0.112\n",
              "year_2019      0.2409      0.009     26.179      0.000       0.223       0.259\n",
              "windspeed     -0.1524      0.026     -5.812      0.000      -0.204      -0.101\n",
              "==============================================================================\n",
              "Omnibus:                       69.905   Durbin-Watson:                   2.127\n",
              "Prob(Omnibus):                  0.000   Jarque-Bera (JB):              174.858\n",
              "Skew:                          -0.702   Prob(JB):                     1.07e-38\n",
              "Kurtosis:                       5.502   Cond. No.                         18.9\n",
              "==============================================================================\n",
              "\n",
              "Warnings:\n",
              "[1] Standard Errors assume that the covariance matrix of the errors is correctly specified.\n",
              "\"\"\""
            ]
          },
          "metadata": {
            "tags": []
          },
          "execution_count": 45
        }
      ]
    },
    {
      "cell_type": "code",
      "metadata": {
        "colab": {
          "base_uri": "https://localhost:8080/"
        },
        "id": "gq_v_BxD_5vF",
        "outputId": "e1a11c56-7209-43a9-8ea2-0b255781e635"
      },
      "source": [
        "# trying variables - temp, hum, weather, season, year, windspeed\n",
        "vars = ['temp', 'hum', 'weth_2', 'weth_3', 'spring', 'summer', 'winter', 'year_2019', 'windspeed',\n",
        "       'aug', 'dec', 'feb', 'jan', 'jul', 'jun', 'mar', 'may', 'nov', 'oct',\n",
        "       'sep'] \n",
        "X_train_sm = X_train[vars]\n",
        "X_train_sm = sm.add_constant(X_train_sm) \n",
        "lr_model8 = sm.OLS(y_train, X_train_sm)\n",
        "result = lr_model8.fit()\n",
        "result.summary()\n",
        "\n",
        "# R2 is 83.8%\n",
        "# temp, humidity, wheather, season, year, windspeed are significant as per p-value\n",
        "# many months are insignificant. \n",
        "# multicollinearity is introduced into model."
      ],
      "execution_count": null,
      "outputs": [
        {
          "output_type": "execute_result",
          "data": {
            "text/html": [
              "<table class=\"simpletable\">\n",
              "<caption>OLS Regression Results</caption>\n",
              "<tr>\n",
              "  <th>Dep. Variable:</th>            <td>y</td>        <th>  R-squared:         </th> <td>   0.838</td> \n",
              "</tr>\n",
              "<tr>\n",
              "  <th>Model:</th>                   <td>OLS</td>       <th>  Adj. R-squared:    </th> <td>   0.831</td> \n",
              "</tr>\n",
              "<tr>\n",
              "  <th>Method:</th>             <td>Least Squares</td>  <th>  F-statistic:       </th> <td>   126.5</td> \n",
              "</tr>\n",
              "<tr>\n",
              "  <th>Date:</th>             <td>Sat, 03 Apr 2021</td> <th>  Prob (F-statistic):</th> <td>1.02e-178</td>\n",
              "</tr>\n",
              "<tr>\n",
              "  <th>Time:</th>                 <td>06:39:58</td>     <th>  Log-Likelihood:    </th> <td>  479.89</td> \n",
              "</tr>\n",
              "<tr>\n",
              "  <th>No. Observations:</th>      <td>   510</td>      <th>  AIC:               </th> <td>  -917.8</td> \n",
              "</tr>\n",
              "<tr>\n",
              "  <th>Df Residuals:</th>          <td>   489</td>      <th>  BIC:               </th> <td>  -828.9</td> \n",
              "</tr>\n",
              "<tr>\n",
              "  <th>Df Model:</th>              <td>    20</td>      <th>                     </th>     <td> </td>    \n",
              "</tr>\n",
              "<tr>\n",
              "  <th>Covariance Type:</th>      <td>nonrobust</td>    <th>                     </th>     <td> </td>    \n",
              "</tr>\n",
              "</table>\n",
              "<table class=\"simpletable\">\n",
              "<tr>\n",
              "      <td></td>         <th>coef</th>     <th>std err</th>      <th>t</th>      <th>P>|t|</th>  <th>[0.025</th>    <th>0.975]</th>  \n",
              "</tr>\n",
              "<tr>\n",
              "  <th>const</th>     <td>    0.3070</td> <td>    0.046</td> <td>    6.678</td> <td> 0.000</td> <td>    0.217</td> <td>    0.397</td>\n",
              "</tr>\n",
              "<tr>\n",
              "  <th>temp</th>      <td>    0.4520</td> <td>    0.050</td> <td>    9.076</td> <td> 0.000</td> <td>    0.354</td> <td>    0.550</td>\n",
              "</tr>\n",
              "<tr>\n",
              "  <th>hum</th>       <td>   -0.1599</td> <td>    0.033</td> <td>   -4.897</td> <td> 0.000</td> <td>   -0.224</td> <td>   -0.096</td>\n",
              "</tr>\n",
              "<tr>\n",
              "  <th>weth_2</th>    <td>   -0.0466</td> <td>    0.012</td> <td>   -3.954</td> <td> 0.000</td> <td>   -0.070</td> <td>   -0.023</td>\n",
              "</tr>\n",
              "<tr>\n",
              "  <th>weth_3</th>    <td>   -0.1989</td> <td>    0.033</td> <td>   -6.074</td> <td> 0.000</td> <td>   -0.263</td> <td>   -0.135</td>\n",
              "</tr>\n",
              "<tr>\n",
              "  <th>spring</th>    <td>   -0.1393</td> <td>    0.034</td> <td>   -4.090</td> <td> 0.000</td> <td>   -0.206</td> <td>   -0.072</td>\n",
              "</tr>\n",
              "<tr>\n",
              "  <th>summer</th>    <td>    0.0067</td> <td>    0.029</td> <td>    0.234</td> <td> 0.815</td> <td>   -0.049</td> <td>    0.063</td>\n",
              "</tr>\n",
              "<tr>\n",
              "  <th>winter</th>    <td>    0.0716</td> <td>    0.029</td> <td>    2.457</td> <td> 0.014</td> <td>    0.014</td> <td>    0.129</td>\n",
              "</tr>\n",
              "<tr>\n",
              "  <th>year_2019</th> <td>    0.2386</td> <td>    0.009</td> <td>   27.270</td> <td> 0.000</td> <td>    0.221</td> <td>    0.256</td>\n",
              "</tr>\n",
              "<tr>\n",
              "  <th>windspeed</th> <td>   -0.1536</td> <td>    0.025</td> <td>   -6.137</td> <td> 0.000</td> <td>   -0.203</td> <td>   -0.104</td>\n",
              "</tr>\n",
              "<tr>\n",
              "  <th>aug</th>       <td>    0.0020</td> <td>    0.037</td> <td>    0.053</td> <td> 0.958</td> <td>   -0.071</td> <td>    0.075</td>\n",
              "</tr>\n",
              "<tr>\n",
              "  <th>dec</th>       <td>   -0.0393</td> <td>    0.039</td> <td>   -1.018</td> <td> 0.309</td> <td>   -0.115</td> <td>    0.037</td>\n",
              "</tr>\n",
              "<tr>\n",
              "  <th>feb</th>       <td>    0.0027</td> <td>    0.039</td> <td>    0.069</td> <td> 0.945</td> <td>   -0.074</td> <td>    0.079</td>\n",
              "</tr>\n",
              "<tr>\n",
              "  <th>jan</th>       <td>   -0.0181</td> <td>    0.040</td> <td>   -0.453</td> <td> 0.651</td> <td>   -0.097</td> <td>    0.060</td>\n",
              "</tr>\n",
              "<tr>\n",
              "  <th>jul</th>       <td>   -0.0542</td> <td>    0.037</td> <td>   -1.447</td> <td> 0.149</td> <td>   -0.128</td> <td>    0.019</td>\n",
              "</tr>\n",
              "<tr>\n",
              "  <th>jun</th>       <td>    0.0146</td> <td>    0.026</td> <td>    0.567</td> <td> 0.571</td> <td>   -0.036</td> <td>    0.065</td>\n",
              "</tr>\n",
              "<tr>\n",
              "  <th>mar</th>       <td>    0.0621</td> <td>    0.032</td> <td>    1.971</td> <td> 0.049</td> <td>    0.000</td> <td>    0.124</td>\n",
              "</tr>\n",
              "<tr>\n",
              "  <th>may</th>       <td>    0.0427</td> <td>    0.022</td> <td>    1.979</td> <td> 0.048</td> <td>    0.000</td> <td>    0.085</td>\n",
              "</tr>\n",
              "<tr>\n",
              "  <th>nov</th>       <td>   -0.0463</td> <td>    0.040</td> <td>   -1.147</td> <td> 0.252</td> <td>   -0.126</td> <td>    0.033</td>\n",
              "</tr>\n",
              "<tr>\n",
              "  <th>oct</th>       <td>    0.0319</td> <td>    0.040</td> <td>    0.800</td> <td> 0.424</td> <td>   -0.046</td> <td>    0.110</td>\n",
              "</tr>\n",
              "<tr>\n",
              "  <th>sep</th>       <td>    0.0738</td> <td>    0.035</td> <td>    2.130</td> <td> 0.034</td> <td>    0.006</td> <td>    0.142</td>\n",
              "</tr>\n",
              "</table>\n",
              "<table class=\"simpletable\">\n",
              "<tr>\n",
              "  <th>Omnibus:</th>       <td>81.745</td> <th>  Durbin-Watson:     </th> <td>   2.138</td>\n",
              "</tr>\n",
              "<tr>\n",
              "  <th>Prob(Omnibus):</th> <td> 0.000</td> <th>  Jarque-Bera (JB):  </th> <td> 200.648</td>\n",
              "</tr>\n",
              "<tr>\n",
              "  <th>Skew:</th>          <td>-0.821</td> <th>  Prob(JB):          </th> <td>2.69e-44</td>\n",
              "</tr>\n",
              "<tr>\n",
              "  <th>Kurtosis:</th>      <td> 5.597</td> <th>  Cond. No.          </th> <td>    36.0</td>\n",
              "</tr>\n",
              "</table><br/><br/>Warnings:<br/>[1] Standard Errors assume that the covariance matrix of the errors is correctly specified."
            ],
            "text/plain": [
              "<class 'statsmodels.iolib.summary.Summary'>\n",
              "\"\"\"\n",
              "                            OLS Regression Results                            \n",
              "==============================================================================\n",
              "Dep. Variable:                      y   R-squared:                       0.838\n",
              "Model:                            OLS   Adj. R-squared:                  0.831\n",
              "Method:                 Least Squares   F-statistic:                     126.5\n",
              "Date:                Sat, 03 Apr 2021   Prob (F-statistic):          1.02e-178\n",
              "Time:                        06:39:58   Log-Likelihood:                 479.89\n",
              "No. Observations:                 510   AIC:                            -917.8\n",
              "Df Residuals:                     489   BIC:                            -828.9\n",
              "Df Model:                          20                                         \n",
              "Covariance Type:            nonrobust                                         \n",
              "==============================================================================\n",
              "                 coef    std err          t      P>|t|      [0.025      0.975]\n",
              "------------------------------------------------------------------------------\n",
              "const          0.3070      0.046      6.678      0.000       0.217       0.397\n",
              "temp           0.4520      0.050      9.076      0.000       0.354       0.550\n",
              "hum           -0.1599      0.033     -4.897      0.000      -0.224      -0.096\n",
              "weth_2        -0.0466      0.012     -3.954      0.000      -0.070      -0.023\n",
              "weth_3        -0.1989      0.033     -6.074      0.000      -0.263      -0.135\n",
              "spring        -0.1393      0.034     -4.090      0.000      -0.206      -0.072\n",
              "summer         0.0067      0.029      0.234      0.815      -0.049       0.063\n",
              "winter         0.0716      0.029      2.457      0.014       0.014       0.129\n",
              "year_2019      0.2386      0.009     27.270      0.000       0.221       0.256\n",
              "windspeed     -0.1536      0.025     -6.137      0.000      -0.203      -0.104\n",
              "aug            0.0020      0.037      0.053      0.958      -0.071       0.075\n",
              "dec           -0.0393      0.039     -1.018      0.309      -0.115       0.037\n",
              "feb            0.0027      0.039      0.069      0.945      -0.074       0.079\n",
              "jan           -0.0181      0.040     -0.453      0.651      -0.097       0.060\n",
              "jul           -0.0542      0.037     -1.447      0.149      -0.128       0.019\n",
              "jun            0.0146      0.026      0.567      0.571      -0.036       0.065\n",
              "mar            0.0621      0.032      1.971      0.049       0.000       0.124\n",
              "may            0.0427      0.022      1.979      0.048       0.000       0.085\n",
              "nov           -0.0463      0.040     -1.147      0.252      -0.126       0.033\n",
              "oct            0.0319      0.040      0.800      0.424      -0.046       0.110\n",
              "sep            0.0738      0.035      2.130      0.034       0.006       0.142\n",
              "==============================================================================\n",
              "Omnibus:                       81.745   Durbin-Watson:                   2.138\n",
              "Prob(Omnibus):                  0.000   Jarque-Bera (JB):              200.648\n",
              "Skew:                          -0.821   Prob(JB):                     2.69e-44\n",
              "Kurtosis:                       5.597   Cond. No.                         36.0\n",
              "==============================================================================\n",
              "\n",
              "Warnings:\n",
              "[1] Standard Errors assume that the covariance matrix of the errors is correctly specified.\n",
              "\"\"\""
            ]
          },
          "metadata": {
            "tags": []
          },
          "execution_count": 46
        }
      ]
    },
    {
      "cell_type": "markdown",
      "metadata": {
        "id": "lFWlBavVPcka"
      },
      "source": [
        "##### RFE for automated feature selection #####"
      ]
    },
    {
      "cell_type": "code",
      "metadata": {
        "id": "CDfrY6zTXuHg"
      },
      "source": [
        "from sklearn.feature_selection import  RFE"
      ],
      "execution_count": null,
      "outputs": []
    },
    {
      "cell_type": "code",
      "metadata": {
        "id": "kIwrwg2tWReU"
      },
      "source": [
        "vars = ['fall', 'summer', 'winter', 'year_2019',\n",
        "       'aug', 'dec', 'feb', 'jan', 'jul', 'jun', 'mar', 'may', 'nov', 'oct',\n",
        "       'sep',\n",
        "       'h_yes', 'mon', 'sat', 'sun', 'thu', 'tue', 'wed',\n",
        "       'wor_yes', 'weth_2', 'weth_3', 'temp', 'atemp', 'hum',\n",
        "       'windspeed']"
      ],
      "execution_count": null,
      "outputs": []
    },
    {
      "cell_type": "code",
      "metadata": {
        "colab": {
          "base_uri": "https://localhost:8080/"
        },
        "id": "nCxPD-EjP1Yu",
        "outputId": "77a11121-9092-48e8-c219-ee0e3c8f30d9"
      },
      "source": [
        "from sklearn.linear_model import LinearRegression\n",
        "lr = LinearRegression()\n",
        "lr.fit(X_train[vars], y_train)"
      ],
      "execution_count": null,
      "outputs": [
        {
          "output_type": "execute_result",
          "data": {
            "text/plain": [
              "LinearRegression(copy_X=True, fit_intercept=True, n_jobs=None, normalize=False)"
            ]
          },
          "metadata": {
            "tags": []
          },
          "execution_count": 49
        }
      ]
    },
    {
      "cell_type": "code",
      "metadata": {
        "colab": {
          "base_uri": "https://localhost:8080/"
        },
        "id": "nAFdP2adP2st",
        "outputId": "b5f52263-4d70-45f6-a074-28e7101aef91"
      },
      "source": [
        "rfe = RFE(lr, 15)\n",
        "rfe.fit(X_train[vars], y_train)"
      ],
      "execution_count": null,
      "outputs": [
        {
          "output_type": "execute_result",
          "data": {
            "text/plain": [
              "RFE(estimator=LinearRegression(copy_X=True, fit_intercept=True, n_jobs=None,\n",
              "                               normalize=False),\n",
              "    n_features_to_select=15, step=1, verbose=0)"
            ]
          },
          "metadata": {
            "tags": []
          },
          "execution_count": 50
        }
      ]
    },
    {
      "cell_type": "code",
      "metadata": {
        "colab": {
          "base_uri": "https://localhost:8080/"
        },
        "id": "d23MMPx_SABj",
        "outputId": "383036ea-cf34-4c8d-dba1-6563345545d9"
      },
      "source": [
        "list(zip(vars, rfe.support_, rfe.ranking_))"
      ],
      "execution_count": null,
      "outputs": [
        {
          "output_type": "execute_result",
          "data": {
            "text/plain": [
              "[('fall', True, 1),\n",
              " ('summer', True, 1),\n",
              " ('winter', True, 1),\n",
              " ('year_2019', True, 1),\n",
              " ('aug', False, 13),\n",
              " ('dec', False, 7),\n",
              " ('feb', False, 14),\n",
              " ('jan', False, 11),\n",
              " ('jul', True, 1),\n",
              " ('jun', False, 12),\n",
              " ('mar', True, 1),\n",
              " ('may', False, 4),\n",
              " ('nov', False, 6),\n",
              " ('oct', True, 1),\n",
              " ('sep', True, 1),\n",
              " ('h_yes', True, 1),\n",
              " ('mon', False, 5),\n",
              " ('sat', False, 2),\n",
              " ('sun', True, 1),\n",
              " ('thu', False, 15),\n",
              " ('tue', False, 9),\n",
              " ('wed', False, 10),\n",
              " ('wor_yes', False, 3),\n",
              " ('weth_2', True, 1),\n",
              " ('weth_3', True, 1),\n",
              " ('temp', True, 1),\n",
              " ('atemp', False, 8),\n",
              " ('hum', True, 1),\n",
              " ('windspeed', True, 1)]"
            ]
          },
          "metadata": {
            "tags": []
          },
          "execution_count": 51
        }
      ]
    },
    {
      "cell_type": "code",
      "metadata": {
        "colab": {
          "base_uri": "https://localhost:8080/"
        },
        "id": "dyLQGPv1SGZ5",
        "outputId": "949b2374-5ff1-42ed-e3de-4eecd59b663f"
      },
      "source": [
        "X_train[vars].columns[rfe.support_]"
      ],
      "execution_count": null,
      "outputs": [
        {
          "output_type": "execute_result",
          "data": {
            "text/plain": [
              "Index(['fall', 'summer', 'winter', 'year_2019', 'jul', 'mar', 'oct', 'sep',\n",
              "       'h_yes', 'sun', 'weth_2', 'weth_3', 'temp', 'hum', 'windspeed'],\n",
              "      dtype='object')"
            ]
          },
          "metadata": {
            "tags": []
          },
          "execution_count": 52
        }
      ]
    },
    {
      "cell_type": "markdown",
      "metadata": {
        "id": "-cS2vXf4ZoLZ"
      },
      "source": [
        "##### VIF to eliminate multi colinearity #####"
      ]
    },
    {
      "cell_type": "code",
      "metadata": {
        "colab": {
          "base_uri": "https://localhost:8080/"
        },
        "id": "wqI4BU2dBMXK",
        "outputId": "80a80a3b-b2b4-47cf-dfc7-aac15b3040a6"
      },
      "source": [
        "# trying variables - temp, hum, weather, season, year, windspeed\n",
        "vars = ['temp', 'hum', 'weth_2', 'weth_3','fall', 'summer', 'winter','year_2019', 'windspeed','h_yes'] \n",
        "X_train_sm = X_train[vars]\n",
        "X_train_sm = sm.add_constant(X_train_sm) \n",
        "lr_model9 = sm.OLS(y_train, X_train_sm)\n",
        "result = lr_model9.fit()\n",
        "result.summary()\n",
        "\n",
        "# R2 is 81.6%\n",
        "# temp, humidity, wheather, season, year, windspeed and holiday are significant as per p-value\n",
        "# removing months removed multicollinearity"
      ],
      "execution_count": null,
      "outputs": [
        {
          "output_type": "execute_result",
          "data": {
            "text/html": [
              "<table class=\"simpletable\">\n",
              "<caption>OLS Regression Results</caption>\n",
              "<tr>\n",
              "  <th>Dep. Variable:</th>            <td>y</td>        <th>  R-squared:         </th> <td>   0.816</td> \n",
              "</tr>\n",
              "<tr>\n",
              "  <th>Model:</th>                   <td>OLS</td>       <th>  Adj. R-squared:    </th> <td>   0.813</td> \n",
              "</tr>\n",
              "<tr>\n",
              "  <th>Method:</th>             <td>Least Squares</td>  <th>  F-statistic:       </th> <td>   221.8</td> \n",
              "</tr>\n",
              "<tr>\n",
              "  <th>Date:</th>             <td>Sat, 03 Apr 2021</td> <th>  Prob (F-statistic):</th> <td>1.76e-176</td>\n",
              "</tr>\n",
              "<tr>\n",
              "  <th>Time:</th>                 <td>06:39:59</td>     <th>  Log-Likelihood:    </th> <td>  447.78</td> \n",
              "</tr>\n",
              "<tr>\n",
              "  <th>No. Observations:</th>      <td>   510</td>      <th>  AIC:               </th> <td>  -873.6</td> \n",
              "</tr>\n",
              "<tr>\n",
              "  <th>Df Residuals:</th>          <td>   499</td>      <th>  BIC:               </th> <td>  -827.0</td> \n",
              "</tr>\n",
              "<tr>\n",
              "  <th>Df Model:</th>              <td>    10</td>      <th>                     </th>     <td> </td>    \n",
              "</tr>\n",
              "<tr>\n",
              "  <th>Covariance Type:</th>      <td>nonrobust</td>    <th>                     </th>     <td> </td>    \n",
              "</tr>\n",
              "</table>\n",
              "<table class=\"simpletable\">\n",
              "<tr>\n",
              "      <td></td>         <th>coef</th>     <th>std err</th>      <th>t</th>      <th>P>|t|</th>  <th>[0.025</th>    <th>0.975]</th>  \n",
              "</tr>\n",
              "<tr>\n",
              "  <th>const</th>     <td>    0.0630</td> <td>    0.035</td> <td>    1.802</td> <td> 0.072</td> <td>   -0.006</td> <td>    0.132</td>\n",
              "</tr>\n",
              "<tr>\n",
              "  <th>temp</th>      <td>    0.4923</td> <td>    0.037</td> <td>   13.185</td> <td> 0.000</td> <td>    0.419</td> <td>    0.566</td>\n",
              "</tr>\n",
              "<tr>\n",
              "  <th>hum</th>       <td>   -0.1217</td> <td>    0.033</td> <td>   -3.700</td> <td> 0.000</td> <td>   -0.186</td> <td>   -0.057</td>\n",
              "</tr>\n",
              "<tr>\n",
              "  <th>weth_2</th>    <td>   -0.0457</td> <td>    0.012</td> <td>   -3.719</td> <td> 0.000</td> <td>   -0.070</td> <td>   -0.022</td>\n",
              "</tr>\n",
              "<tr>\n",
              "  <th>weth_3</th>    <td>   -0.2194</td> <td>    0.034</td> <td>   -6.418</td> <td> 0.000</td> <td>   -0.287</td> <td>   -0.152</td>\n",
              "</tr>\n",
              "<tr>\n",
              "  <th>fall</th>      <td>    0.1175</td> <td>    0.023</td> <td>    5.160</td> <td> 0.000</td> <td>    0.073</td> <td>    0.162</td>\n",
              "</tr>\n",
              "<tr>\n",
              "  <th>summer</th>    <td>    0.1528</td> <td>    0.018</td> <td>    8.633</td> <td> 0.000</td> <td>    0.118</td> <td>    0.188</td>\n",
              "</tr>\n",
              "<tr>\n",
              "  <th>winter</th>    <td>    0.1935</td> <td>    0.015</td> <td>   13.234</td> <td> 0.000</td> <td>    0.165</td> <td>    0.222</td>\n",
              "</tr>\n",
              "<tr>\n",
              "  <th>year_2019</th> <td>    0.2419</td> <td>    0.009</td> <td>   26.458</td> <td> 0.000</td> <td>    0.224</td> <td>    0.260</td>\n",
              "</tr>\n",
              "<tr>\n",
              "  <th>windspeed</th> <td>   -0.1503</td> <td>    0.026</td> <td>   -5.772</td> <td> 0.000</td> <td>   -0.201</td> <td>   -0.099</td>\n",
              "</tr>\n",
              "<tr>\n",
              "  <th>h_yes</th>     <td>    0.0748</td> <td>    0.026</td> <td>    2.883</td> <td> 0.004</td> <td>    0.024</td> <td>    0.126</td>\n",
              "</tr>\n",
              "</table>\n",
              "<table class=\"simpletable\">\n",
              "<tr>\n",
              "  <th>Omnibus:</th>       <td>64.554</td> <th>  Durbin-Watson:     </th> <td>   2.137</td>\n",
              "</tr>\n",
              "<tr>\n",
              "  <th>Prob(Omnibus):</th> <td> 0.000</td> <th>  Jarque-Bera (JB):  </th> <td> 154.050</td>\n",
              "</tr>\n",
              "<tr>\n",
              "  <th>Skew:</th>          <td>-0.665</td> <th>  Prob(JB):          </th> <td>3.54e-34</td>\n",
              "</tr>\n",
              "<tr>\n",
              "  <th>Kurtosis:</th>      <td> 5.341</td> <th>  Cond. No.          </th> <td>    19.6</td>\n",
              "</tr>\n",
              "</table><br/><br/>Warnings:<br/>[1] Standard Errors assume that the covariance matrix of the errors is correctly specified."
            ],
            "text/plain": [
              "<class 'statsmodels.iolib.summary.Summary'>\n",
              "\"\"\"\n",
              "                            OLS Regression Results                            \n",
              "==============================================================================\n",
              "Dep. Variable:                      y   R-squared:                       0.816\n",
              "Model:                            OLS   Adj. R-squared:                  0.813\n",
              "Method:                 Least Squares   F-statistic:                     221.8\n",
              "Date:                Sat, 03 Apr 2021   Prob (F-statistic):          1.76e-176\n",
              "Time:                        06:39:59   Log-Likelihood:                 447.78\n",
              "No. Observations:                 510   AIC:                            -873.6\n",
              "Df Residuals:                     499   BIC:                            -827.0\n",
              "Df Model:                          10                                         \n",
              "Covariance Type:            nonrobust                                         \n",
              "==============================================================================\n",
              "                 coef    std err          t      P>|t|      [0.025      0.975]\n",
              "------------------------------------------------------------------------------\n",
              "const          0.0630      0.035      1.802      0.072      -0.006       0.132\n",
              "temp           0.4923      0.037     13.185      0.000       0.419       0.566\n",
              "hum           -0.1217      0.033     -3.700      0.000      -0.186      -0.057\n",
              "weth_2        -0.0457      0.012     -3.719      0.000      -0.070      -0.022\n",
              "weth_3        -0.2194      0.034     -6.418      0.000      -0.287      -0.152\n",
              "fall           0.1175      0.023      5.160      0.000       0.073       0.162\n",
              "summer         0.1528      0.018      8.633      0.000       0.118       0.188\n",
              "winter         0.1935      0.015     13.234      0.000       0.165       0.222\n",
              "year_2019      0.2419      0.009     26.458      0.000       0.224       0.260\n",
              "windspeed     -0.1503      0.026     -5.772      0.000      -0.201      -0.099\n",
              "h_yes          0.0748      0.026      2.883      0.004       0.024       0.126\n",
              "==============================================================================\n",
              "Omnibus:                       64.554   Durbin-Watson:                   2.137\n",
              "Prob(Omnibus):                  0.000   Jarque-Bera (JB):              154.050\n",
              "Skew:                          -0.665   Prob(JB):                     3.54e-34\n",
              "Kurtosis:                       5.341   Cond. No.                         19.6\n",
              "==============================================================================\n",
              "\n",
              "Warnings:\n",
              "[1] Standard Errors assume that the covariance matrix of the errors is correctly specified.\n",
              "\"\"\""
            ]
          },
          "metadata": {
            "tags": []
          },
          "execution_count": 53
        }
      ]
    },
    {
      "cell_type": "code",
      "metadata": {
        "colab": {
          "base_uri": "https://localhost:8080/"
        },
        "id": "bXip5pHFJaGm",
        "outputId": "fb887b86-87da-4e64-9d11-50765a77bc8c"
      },
      "source": [
        "#checking VIF\n",
        "from statsmodels.stats.outliers_influence import variance_inflation_factor\n",
        "\n",
        "vif = pd.DataFrame()\n",
        "vif['Feature'] = X_train_sm.columns\n",
        "vif['VIF'] = [variance_inflation_factor(X_train_sm.values, i) for i in range(X_train_sm.shape[1])]\n",
        "vif\n",
        "\n",
        "# All columns  have VIF < 5.\n",
        "# temp and fall season has VIF on higher side 3.4 and 4.9 respectively. They have business importance\n",
        "# constant donot need to be considered for VIF"
      ],
      "execution_count": null,
      "outputs": [
        {
          "output_type": "execute_result",
          "data": {
            "text/html": [
              "<div>\n",
              "<style scoped>\n",
              "    .dataframe tbody tr th:only-of-type {\n",
              "        vertical-align: middle;\n",
              "    }\n",
              "\n",
              "    .dataframe tbody tr th {\n",
              "        vertical-align: top;\n",
              "    }\n",
              "\n",
              "    .dataframe thead th {\n",
              "        text-align: right;\n",
              "    }\n",
              "</style>\n",
              "<table border=\"1\" class=\"dataframe\">\n",
              "  <thead>\n",
              "    <tr style=\"text-align: right;\">\n",
              "      <th></th>\n",
              "      <th>Feature</th>\n",
              "      <th>VIF</th>\n",
              "    </tr>\n",
              "  </thead>\n",
              "  <tbody>\n",
              "    <tr>\n",
              "      <th>0</th>\n",
              "      <td>const</td>\n",
              "      <td>60.280818</td>\n",
              "    </tr>\n",
              "    <tr>\n",
              "      <th>1</th>\n",
              "      <td>temp</td>\n",
              "      <td>3.533164</td>\n",
              "    </tr>\n",
              "    <tr>\n",
              "      <th>2</th>\n",
              "      <td>hum</td>\n",
              "      <td>2.001954</td>\n",
              "    </tr>\n",
              "    <tr>\n",
              "      <th>3</th>\n",
              "      <td>weth_2</td>\n",
              "      <td>1.667364</td>\n",
              "    </tr>\n",
              "    <tr>\n",
              "      <th>4</th>\n",
              "      <td>weth_3</td>\n",
              "      <td>1.325030</td>\n",
              "    </tr>\n",
              "    <tr>\n",
              "      <th>5</th>\n",
              "      <td>fall</td>\n",
              "      <td>4.928520</td>\n",
              "    </tr>\n",
              "    <tr>\n",
              "      <th>6</th>\n",
              "      <td>summer</td>\n",
              "      <td>2.949456</td>\n",
              "    </tr>\n",
              "    <tr>\n",
              "      <th>7</th>\n",
              "      <td>winter</td>\n",
              "      <td>1.971792</td>\n",
              "    </tr>\n",
              "    <tr>\n",
              "      <th>8</th>\n",
              "      <td>year_2019</td>\n",
              "      <td>1.029211</td>\n",
              "    </tr>\n",
              "    <tr>\n",
              "      <th>9</th>\n",
              "      <td>windspeed</td>\n",
              "      <td>1.182306</td>\n",
              "    </tr>\n",
              "    <tr>\n",
              "      <th>10</th>\n",
              "      <td>h_yes</td>\n",
              "      <td>1.009819</td>\n",
              "    </tr>\n",
              "  </tbody>\n",
              "</table>\n",
              "</div>"
            ],
            "text/plain": [
              "      Feature        VIF\n",
              "0       const  60.280818\n",
              "1        temp   3.533164\n",
              "2         hum   2.001954\n",
              "3      weth_2   1.667364\n",
              "4      weth_3   1.325030\n",
              "5        fall   4.928520\n",
              "6      summer   2.949456\n",
              "7      winter   1.971792\n",
              "8   year_2019   1.029211\n",
              "9   windspeed   1.182306\n",
              "10      h_yes   1.009819"
            ]
          },
          "metadata": {
            "tags": []
          },
          "execution_count": 54
        }
      ]
    },
    {
      "cell_type": "markdown",
      "metadata": {
        "id": "2n1THhQeG6n5"
      },
      "source": [
        "##### Trainig model with sklearn #####"
      ]
    },
    {
      "cell_type": "markdown",
      "metadata": {
        "id": "xakwztVd5RA0"
      },
      "source": [
        "We are building the final model here on the basis of featrure selected above."
      ]
    },
    {
      "cell_type": "code",
      "metadata": {
        "id": "AUKSNIXUG4o7"
      },
      "source": [
        "from sklearn.linear_model import LinearRegression\n",
        "from sklearn.metrics import r2_score"
      ],
      "execution_count": null,
      "outputs": []
    },
    {
      "cell_type": "code",
      "metadata": {
        "colab": {
          "base_uri": "https://localhost:8080/"
        },
        "id": "1nH1nPq_Hquv",
        "outputId": "ec0bc21d-2b11-4c2e-b372-fea6a4d4ca07"
      },
      "source": [
        "#initialize and train the LR model on choosen columns\n",
        "vars = ['temp', 'hum', 'weth_2', 'weth_3','fall', 'summer', 'winter','year_2019', 'windspeed','h_yes']  \n",
        "X_train_lr = X_train[vars]\n",
        "model = LinearRegression()\n",
        "model.fit(X_train_lr, y_train)"
      ],
      "execution_count": null,
      "outputs": [
        {
          "output_type": "execute_result",
          "data": {
            "text/plain": [
              "LinearRegression(copy_X=True, fit_intercept=True, n_jobs=None, normalize=False)"
            ]
          },
          "metadata": {
            "tags": []
          },
          "execution_count": 56
        }
      ]
    },
    {
      "cell_type": "code",
      "metadata": {
        "id": "QCTTeiE55t3x"
      },
      "source": [
        "y_train_pred = model.predict(X_train_lr)"
      ],
      "execution_count": null,
      "outputs": []
    },
    {
      "cell_type": "code",
      "metadata": {
        "colab": {
          "base_uri": "https://localhost:8080/"
        },
        "id": "5fs0zzCxIASh",
        "outputId": "c5b3b803-ab54-431a-f375-7265becd0f70"
      },
      "source": [
        "#print R2 score train Dataset\n",
        "print(f'R2 Score(Training Data): {r2_score(y_train, y_train_pred)}')"
      ],
      "execution_count": null,
      "outputs": [
        {
          "output_type": "stream",
          "text": [
            "R2 Score(Training Data): 0.8163409055790112\n"
          ],
          "name": "stdout"
        }
      ]
    },
    {
      "cell_type": "code",
      "metadata": {
        "colab": {
          "base_uri": "https://localhost:8080/"
        },
        "id": "Txja1_dFPfUP",
        "outputId": "752f283a-0f6e-4fb9-c3c9-c2fafd42ad0b"
      },
      "source": [
        "print('Predictor : Coefficient')\n",
        "print(\"-\"* 25)\n",
        "for i,j in list(sorted(zip(vars,model.coef_[0]), key= lambda x:x[1], reverse=True)):\n",
        "  print('{:<12}:{}'.format(i, round(j,3)))"
      ],
      "execution_count": null,
      "outputs": [
        {
          "output_type": "stream",
          "text": [
            "Predictor : Coefficient\n",
            "-------------------------\n",
            "temp        :0.492\n",
            "year_2019   :0.242\n",
            "winter      :0.193\n",
            "summer      :0.153\n",
            "fall        :0.117\n",
            "h_yes       :0.075\n",
            "weth_2      :-0.046\n",
            "hum         :-0.122\n",
            "windspeed   :-0.15\n",
            "weth_3      :-0.219\n"
          ],
          "name": "stdout"
        }
      ]
    },
    {
      "cell_type": "code",
      "metadata": {
        "colab": {
          "base_uri": "https://localhost:8080/"
        },
        "id": "OUV3u66cPhUW",
        "outputId": "824a65fe-d233-4f29-bd7e-40226ab0875c"
      },
      "source": [
        "print(f'Intercept: {model.intercept_}')"
      ],
      "execution_count": null,
      "outputs": [
        {
          "output_type": "stream",
          "text": [
            "Intercept: [0.06298949]\n"
          ],
          "name": "stdout"
        }
      ]
    },
    {
      "cell_type": "code",
      "metadata": {
        "colab": {
          "base_uri": "https://localhost:8080/"
        },
        "id": "A0SoEsncR4X0",
        "outputId": "9377206c-6ed8-4373-a149-27f35ead098e"
      },
      "source": [
        "#print root mean square error.\n",
        "from sklearn.metrics import mean_squared_error\n",
        "from numpy import sqrt\n",
        "rmse_error = sqrt(mean_squared_error(y_train, y_train_pred))\n",
        "print(f'RMSE(Train Data Set):{rmse_error}')\n",
        "print(f'RMSE Absolute (Train Data Set): {target_scalar.inverse_transform(np.array(rmse_error).reshape(-1,1))}')"
      ],
      "execution_count": null,
      "outputs": [
        {
          "output_type": "stream",
          "text": [
            "RMSE(Train Data Set):0.10056612364757811\n",
            "RMSE Absolute (Train Data Set): [[1263.98920217]]\n"
          ],
          "name": "stdout"
        }
      ]
    },
    {
      "cell_type": "markdown",
      "metadata": {
        "id": "1M-nG3A8Z_Xv"
      },
      "source": [
        "##### Error Analysis #####"
      ]
    },
    {
      "cell_type": "code",
      "metadata": {
        "colab": {
          "base_uri": "https://localhost:8080/"
        },
        "id": "iPzXHa1faD-u",
        "outputId": "6c127aa7-1f47-48d0-8a14-ece0a6661b04"
      },
      "source": [
        "#create Dataframe for calculating error \n",
        "error_df = pd.DataFrame(y_train, columns=['cnt'])\n",
        "error_df['cnt_pred'] = y_train_pred\n",
        "error_df['error'] = error_df['cnt_pred'] - error_df['cnt']\n",
        "error_df['cnt_abs'] = np.ceil(target_scalar.inverse_transform(y_train))\n",
        "error_df['cnt_pred_abs'] = np.ceil(target_scalar.inverse_transform(y_train_pred))\n",
        "error_df['error_abs'] = error_df['cnt_pred_abs'] - error_df['cnt_abs']\n",
        "error_df"
      ],
      "execution_count": null,
      "outputs": [
        {
          "output_type": "execute_result",
          "data": {
            "text/html": [
              "<div>\n",
              "<style scoped>\n",
              "    .dataframe tbody tr th:only-of-type {\n",
              "        vertical-align: middle;\n",
              "    }\n",
              "\n",
              "    .dataframe tbody tr th {\n",
              "        vertical-align: top;\n",
              "    }\n",
              "\n",
              "    .dataframe thead th {\n",
              "        text-align: right;\n",
              "    }\n",
              "</style>\n",
              "<table border=\"1\" class=\"dataframe\">\n",
              "  <thead>\n",
              "    <tr style=\"text-align: right;\">\n",
              "      <th></th>\n",
              "      <th>cnt</th>\n",
              "      <th>cnt_pred</th>\n",
              "      <th>error</th>\n",
              "      <th>cnt_abs</th>\n",
              "      <th>cnt_pred_abs</th>\n",
              "      <th>error_abs</th>\n",
              "    </tr>\n",
              "  </thead>\n",
              "  <tbody>\n",
              "    <tr>\n",
              "      <th>0</th>\n",
              "      <td>0.605336</td>\n",
              "      <td>0.577192</td>\n",
              "      <td>-0.028144</td>\n",
              "      <td>5445.0</td>\n",
              "      <td>5212.0</td>\n",
              "      <td>-233.0</td>\n",
              "    </tr>\n",
              "    <tr>\n",
              "      <th>1</th>\n",
              "      <td>0.609320</td>\n",
              "      <td>0.511254</td>\n",
              "      <td>-0.098066</td>\n",
              "      <td>5478.0</td>\n",
              "      <td>4666.0</td>\n",
              "      <td>-812.0</td>\n",
              "    </tr>\n",
              "    <tr>\n",
              "      <th>2</th>\n",
              "      <td>0.538452</td>\n",
              "      <td>0.489036</td>\n",
              "      <td>-0.049416</td>\n",
              "      <td>4891.0</td>\n",
              "      <td>4482.0</td>\n",
              "      <td>-409.0</td>\n",
              "    </tr>\n",
              "    <tr>\n",
              "      <th>3</th>\n",
              "      <td>0.225884</td>\n",
              "      <td>0.140377</td>\n",
              "      <td>-0.085507</td>\n",
              "      <td>2302.0</td>\n",
              "      <td>1594.0</td>\n",
              "      <td>-708.0</td>\n",
              "    </tr>\n",
              "    <tr>\n",
              "      <th>4</th>\n",
              "      <td>0.862127</td>\n",
              "      <td>0.786324</td>\n",
              "      <td>-0.075803</td>\n",
              "      <td>7572.0</td>\n",
              "      <td>6945.0</td>\n",
              "      <td>-627.0</td>\n",
              "    </tr>\n",
              "    <tr>\n",
              "      <th>...</th>\n",
              "      <td>...</td>\n",
              "      <td>...</td>\n",
              "      <td>...</td>\n",
              "      <td>...</td>\n",
              "      <td>...</td>\n",
              "      <td>...</td>\n",
              "    </tr>\n",
              "    <tr>\n",
              "      <th>505</th>\n",
              "      <td>0.194978</td>\n",
              "      <td>0.216683</td>\n",
              "      <td>0.021706</td>\n",
              "      <td>2046.0</td>\n",
              "      <td>2226.0</td>\n",
              "      <td>180.0</td>\n",
              "    </tr>\n",
              "    <tr>\n",
              "      <th>506</th>\n",
              "      <td>0.361946</td>\n",
              "      <td>0.466583</td>\n",
              "      <td>0.104637</td>\n",
              "      <td>3429.0</td>\n",
              "      <td>4296.0</td>\n",
              "      <td>867.0</td>\n",
              "    </tr>\n",
              "    <tr>\n",
              "      <th>507</th>\n",
              "      <td>0.532174</td>\n",
              "      <td>0.541059</td>\n",
              "      <td>0.008884</td>\n",
              "      <td>4839.0</td>\n",
              "      <td>4913.0</td>\n",
              "      <td>74.0</td>\n",
              "    </tr>\n",
              "    <tr>\n",
              "      <th>508</th>\n",
              "      <td>0.653869</td>\n",
              "      <td>0.547564</td>\n",
              "      <td>-0.106305</td>\n",
              "      <td>5847.0</td>\n",
              "      <td>4967.0</td>\n",
              "      <td>-880.0</td>\n",
              "    </tr>\n",
              "    <tr>\n",
              "      <th>509</th>\n",
              "      <td>0.342388</td>\n",
              "      <td>0.459233</td>\n",
              "      <td>0.116845</td>\n",
              "      <td>3267.0</td>\n",
              "      <td>4235.0</td>\n",
              "      <td>968.0</td>\n",
              "    </tr>\n",
              "  </tbody>\n",
              "</table>\n",
              "<p>510 rows × 6 columns</p>\n",
              "</div>"
            ],
            "text/plain": [
              "          cnt  cnt_pred     error  cnt_abs  cnt_pred_abs  error_abs\n",
              "0    0.605336  0.577192 -0.028144   5445.0        5212.0     -233.0\n",
              "1    0.609320  0.511254 -0.098066   5478.0        4666.0     -812.0\n",
              "2    0.538452  0.489036 -0.049416   4891.0        4482.0     -409.0\n",
              "3    0.225884  0.140377 -0.085507   2302.0        1594.0     -708.0\n",
              "4    0.862127  0.786324 -0.075803   7572.0        6945.0     -627.0\n",
              "..        ...       ...       ...      ...           ...        ...\n",
              "505  0.194978  0.216683  0.021706   2046.0        2226.0      180.0\n",
              "506  0.361946  0.466583  0.104637   3429.0        4296.0      867.0\n",
              "507  0.532174  0.541059  0.008884   4839.0        4913.0       74.0\n",
              "508  0.653869  0.547564 -0.106305   5847.0        4967.0     -880.0\n",
              "509  0.342388  0.459233  0.116845   3267.0        4235.0      968.0\n",
              "\n",
              "[510 rows x 6 columns]"
            ]
          },
          "metadata": {
            "tags": []
          },
          "execution_count": 62
        }
      ]
    },
    {
      "cell_type": "code",
      "metadata": {
        "colab": {
          "base_uri": "https://localhost:8080/"
        },
        "id": "p7QNGclla99Z",
        "outputId": "5d4c8486-6530-4f82-8533-30bbca157310"
      },
      "source": [
        "#validate assumption 2 - errors are normally distributed with zero mean.\n",
        "error_df.error.hist()\n",
        "plt.title('Error histogram')\n",
        "plt.show()"
      ],
      "execution_count": null,
      "outputs": [
        {
          "output_type": "display_data",
          "data": {
            "image/png": "[encoded data removed]",
            "text/plain": [
              "<Figure size 432x288 with 1 Axes>"
            ]
          },
          "metadata": {
            "tags": [],
            "needs_background": "light"
          }
        }
      ]
    },
    {
      "cell_type": "code",
      "metadata": {
        "colab": {
          "base_uri": "https://localhost:8080/"
        },
        "id": "1dxdTFbRbGPy",
        "outputId": "37e4d036-5b1f-41cb-e2e5-8c8215dd41b9"
      },
      "source": [
        "#validate assumption 3 - errors are independent of each other. No visible pattern in error plotting.\n",
        "sns.scatterplot(y=error_df.error, x=error_df.index)\n",
        "plt.title('Distribution of error term ')\n",
        "plt.show()"
      ],
      "execution_count": null,
      "outputs": [
        {
          "output_type": "display_data",
          "data": {
            "image/png": "[encoded data removed]",
            "text/plain": [
              "<Figure size 432x288 with 1 Axes>"
            ]
          },
          "metadata": {
            "tags": [],
            "needs_background": "light"
          }
        }
      ]
    },
    {
      "cell_type": "code",
      "metadata": {
        "colab": {
          "base_uri": "https://localhost:8080/"
        },
        "id": "4x9HweR0cmGp",
        "outputId": "1d5ba9cb-fb17-45f2-bc6f-f49e7f44d46d"
      },
      "source": [
        "#absolute value of predcition on train set- first 5 records\n",
        "np.ceil(target_scalar.inverse_transform(y_train))[0:5]"
      ],
      "execution_count": null,
      "outputs": [
        {
          "output_type": "execute_result",
          "data": {
            "text/plain": [
              "array([[5445.],\n",
              "       [5478.],\n",
              "       [4891.],\n",
              "       [2302.],\n",
              "       [7572.]])"
            ]
          },
          "metadata": {
            "tags": []
          },
          "execution_count": 65
        }
      ]
    },
    {
      "cell_type": "markdown",
      "metadata": {
        "id": "pDRuLWMdbbk7"
      },
      "source": [
        "##### Prediction on Test data set #####"
      ]
    },
    {
      "cell_type": "markdown",
      "metadata": {
        "id": "DYA-0-O6fB-s"
      },
      "source": [
        "We will perform the same transformation to prepare the data as done on train data. We will use transform method instead of fit_transform."
      ]
    },
    {
      "cell_type": "code",
      "metadata": {
        "id": "z01VO5yObmB6"
      },
      "source": [
        "#preparing the test data - predictors\n",
        "X_test = pd.DataFrame(cat_encoder.transform(data_test[cat_cols]), columns=col_names)\n",
        "scaled_num_data = pd.DataFrame(pred_scalar.transform(data_test[num_cols[0:-1]]), columns=num_cols[0:-1])\n",
        "X_test= pd.concat([X_test, scaled_num_data], axis=1)"
      ],
      "execution_count": null,
      "outputs": []
    },
    {
      "cell_type": "code",
      "metadata": {
        "id": "55xqFxq6cT-F"
      },
      "source": [
        "#preparing the test - target \n",
        "y_test = target_scalar.transform(data_test.cnt.values.reshape(-1,1))"
      ],
      "execution_count": null,
      "outputs": []
    },
    {
      "cell_type": "code",
      "metadata": {
        "colab": {
          "base_uri": "https://localhost:8080/"
        },
        "id": "CYnDwLHycVfM",
        "outputId": "6620faee-5cc5-45f9-d47e-720fdcd843aa"
      },
      "source": [
        "#shape of test_data\n",
        "print(f'Shape(X_test):{X_test.shape}')\n",
        "print(f'length(y_test):{len(y_test)}')"
      ],
      "execution_count": null,
      "outputs": [
        {
          "output_type": "stream",
          "text": [
            "Shape(X_test):(219, 36)\n",
            "length(y_test):219\n"
          ],
          "name": "stdout"
        }
      ]
    },
    {
      "cell_type": "code",
      "metadata": {
        "id": "1dWav8b4dWRp"
      },
      "source": [
        "#making predicton on X_test\n",
        "#initialize and train the LR model on choosen columns\n",
        "# vars = ['temp', 'hum', 'weth_2', 'weth_3','fall', 'summer', 'winter','year_2019', 'windspeed','h_yes']  \n",
        "X_test_lr = X_test[vars]\n",
        "y_test_pred = model.predict(X_test_lr)"
      ],
      "execution_count": null,
      "outputs": []
    },
    {
      "cell_type": "code",
      "metadata": {
        "colab": {
          "base_uri": "https://localhost:8080/"
        },
        "id": "mv4BPEZhd0ZQ",
        "outputId": "18e486f1-14a4-4875-f811-d952358d0356"
      },
      "source": [
        "# calulating the r2 scrore on test data\n",
        "r2_score(y_test, y_test_pred)\n",
        "# We are able to explain the 82.7% of variance in test data."
      ],
      "execution_count": null,
      "outputs": [
        {
          "output_type": "execute_result",
          "data": {
            "text/plain": [
              "0.8272837164664857"
            ]
          },
          "metadata": {
            "tags": []
          },
          "execution_count": 70
        }
      ]
    },
    {
      "cell_type": "code",
      "metadata": {
        "colab": {
          "base_uri": "https://localhost:8080/"
        },
        "id": "cncVLs4EVnCz",
        "outputId": "84539752-588f-4084-fadb-3f3d273f5f9d"
      },
      "source": [
        "rmse_error = sqrt(mean_squared_error(y_test, y_test_pred))\n",
        "print(f'RMSE(Test Data Set):{rmse_error}')\n",
        "print(f'RMSE Absolute (Test Data Set): {target_scalar.inverse_transform(np.array(rmse_error).reshape(-1,1))}')"
      ],
      "execution_count": null,
      "outputs": [
        {
          "output_type": "stream",
          "text": [
            "RMSE(Test Data Set):0.0944505681834833\n",
            "RMSE Absolute (Test Data Set): [[1213.33405626]]\n"
          ],
          "name": "stdout"
        }
      ]
    },
    {
      "cell_type": "markdown",
      "metadata": {
        "id": "-nA27Gd_bSFb"
      },
      "source": [
        "##### Conclusion #####"
      ]
    },
    {
      "cell_type": "markdown",
      "metadata": {
        "id": "NoLjJRltbWhZ"
      },
      "source": [
        "- Our final model is able to explain ~82% of variance in the data.\n",
        "- RMSE of model is 0.094(in absolute term 1213 count )\n",
        "- Features which has major positive impact on prediction are below in descreasing order of sequence.\n",
        "            1.   temp        :0.492\n",
        "            2.   year_2019   :0.242\n",
        "            3.   winter      :0.193\n",
        "            4.   summer      :0.153\n",
        "            5.   fall        :0.117\n",
        "            6.   h_yes       :0.075\n",
        "\n",
        "- Features which has major negative impact on prediction are below in increasing order of sequence.\n",
        "            1.   weth_2      :-0.046\n",
        "            2.   hum         :-0.122\n",
        "            3.   windspeed   :-0.15\n",
        "            4.   weth_3      :-0.219\n",
        "\n",
        "\n"
      ]
    }
  ]
}